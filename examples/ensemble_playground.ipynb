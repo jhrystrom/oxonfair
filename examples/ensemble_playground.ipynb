{
 "cells": [
  {
   "cell_type": "code",
   "execution_count": 1,
   "metadata": {},
   "outputs": [
    {
     "name": "stderr",
     "output_type": "stream",
     "text": [
      "/Users/jonathanrystrom/repos/oxonfair/.venv/lib/python3.12/site-packages/tqdm/auto.py:21: TqdmWarning: IProgress not found. Please update jupyter and ipywidgets. See https://ipywidgets.readthedocs.io/en/stable/user_install.html\n",
      "  from .autonotebook import tqdm as notebook_tqdm\n"
     ]
    }
   ],
   "source": [
    "from pathlib import Path\n",
    "\n",
    "import evaluate\n",
    "import numpy as np\n",
    "import pandas as pd\n",
    "from datasets import Dataset\n",
    "from joblib import Memory\n",
    "from transformers import (\n",
    "    AutoModelForSequenceClassification,\n",
    "    AutoTokenizer,\n",
    "    DataCollatorWithPadding,\n",
    "    Trainer,\n",
    "    TrainingArguments,\n",
    ")\n",
    "\n",
    "CACHE_DIR = Path().cwd().parent / \".cache\"\n",
    "if not CACHE_DIR.exists():\n",
    "    CACHE_DIR.mkdir()"
   ]
  },
  {
   "cell_type": "code",
   "execution_count": 2,
   "metadata": {},
   "outputs": [],
   "source": [
    "memory = Memory(CACHE_DIR)\n",
    "\n",
    "\n",
    "@memory.cache\n",
    "def load_df(split: str = \"train\") -> pd.DataFrame:\n",
    "    splits = {\n",
    "        \"train\": \"data/train-00000-of-00001.parquet\",\n",
    "        \"test\": \"data/test-00000-of-00001.parquet\",\n",
    "    }\n",
    "    return pd.read_parquet(\n",
    "        \"hf://datasets/FundSciImpact/semeval-2016/\" + splits[split],\n",
    "        columns=[\"Tweet\", \"Target\", \"Sentiment\"],\n",
    "    )\n",
    "\n",
    "\n",
    "df = load_df()\n",
    "df = df[df[\"Sentiment\"] != \"other\"]"
   ]
  },
  {
   "cell_type": "code",
   "execution_count": 3,
   "metadata": {},
   "outputs": [
    {
     "data": {
      "text/plain": [
       "\"|                                             |   count |\\n|:--------------------------------------------|--------:|\\n| ('Feminist Movement', 'neg')                |     513 |\\n| ('Hillary Clinton', 'neg')                  |     441 |\\n| ('Legalization of Abortion', 'neg')         |     432 |\\n| ('Atheism', 'pos')                          |     310 |\\n| ('Hillary Clinton', 'pos')                  |     221 |\\n| ('Climate Change is a Real Concern', 'neg') |     196 |\\n| ('Legalization of Abortion', 'pos')         |     188 |\\n| ('Atheism', 'neg')                          |     180 |\\n| ('Climate Change is a Real Concern', 'pos') |     125 |\\n| ('Feminist Movement', 'pos')                |     119 |\""
      ]
     },
     "execution_count": 3,
     "metadata": {},
     "output_type": "execute_result"
    }
   ],
   "source": [
    "df[[\"Target\", \"Sentiment\"]].value_counts().to_markdown()"
   ]
  },
  {
   "cell_type": "code",
   "execution_count": 4,
   "metadata": {},
   "outputs": [],
   "source": [
    "sentiment_classes = [\"pos\", \"neg\"]\n",
    "# Assuming Target column contains the classes we want to one-hot encode\n",
    "target_classes = df[\"Target\"].unique().tolist()  # Take first 5 unique values\n",
    "target_classes\n",
    "\n",
    "all_classes = sentiment_classes + target_classes\n",
    "# Create dictionaries for mapping\n",
    "sentiment_class2id = {\n",
    "    class_: class_id for class_id, class_ in enumerate(sentiment_classes)\n",
    "}\n",
    "target_class2id = {class_: class_id for class_id, class_ in enumerate(target_classes)}\n",
    "# All class mappings (sentiment + targets)\n",
    "all_classes = sentiment_classes + target_classes\n",
    "class2id = {class_: class_id for class_id, class_ in enumerate(all_classes)}\n",
    "id2class = {class_id: class_ for class_, class_id in class2id.items()}"
   ]
  },
  {
   "cell_type": "code",
   "execution_count": 5,
   "metadata": {},
   "outputs": [],
   "source": [
    "dataset_dict = {\n",
    "    \"text\": df[\"Tweet\"].tolist(),\n",
    "    \"sentiment\": df[\"Sentiment\"].tolist(),\n",
    "    \"target\": df[\"Target\"].tolist(),\n",
    "}\n",
    "dataset = Dataset.from_dict(dataset_dict)\n",
    "\n",
    "dataset = dataset.train_test_split(test_size=0.2)\n",
    "\n",
    "# 3. Load tokenizer\n",
    "model_path = \"google-bert/bert-base-uncased\"\n",
    "tokenizer = AutoTokenizer.from_pretrained(model_path)"
   ]
  },
  {
   "cell_type": "code",
   "execution_count": 6,
   "metadata": {},
   "outputs": [],
   "source": [
    "# 4. Preprocess function\n",
    "def preprocess_function(example):\n",
    "    # Tokenize text\n",
    "    tokenized = tokenizer(example[\"text\"], truncation=True)\n",
    "\n",
    "    # Prepare multilabel format\n",
    "    labels = [0.0] * len(all_classes)\n",
    "\n",
    "    # Set sentiment label (binary classification - either pos or neg)\n",
    "    sentiment_id = class2id[example[\"sentiment\"]]\n",
    "    labels[sentiment_id] = 1.0\n",
    "\n",
    "    # Set target labels (one-hot encoding for the 5 target classes)\n",
    "    if example[\"target\"] in target_classes:\n",
    "        target_id = class2id[example[\"target\"]]\n",
    "        labels[target_id] = 1.0\n",
    "\n",
    "    tokenized[\"labels\"] = labels\n",
    "    return tokenized"
   ]
  },
  {
   "cell_type": "code",
   "execution_count": 7,
   "metadata": {},
   "outputs": [
    {
     "name": "stderr",
     "output_type": "stream",
     "text": [
      "Map: 100%|██████████| 2180/2180 [00:00<00:00, 10970.75 examples/s]\n",
      "Map: 100%|██████████| 545/545 [00:00<00:00, 12126.83 examples/s]\n"
     ]
    }
   ],
   "source": [
    "# Apply preprocessing\n",
    "tokenized_dataset = dataset.map(preprocess_function)"
   ]
  },
  {
   "cell_type": "code",
   "execution_count": 8,
   "metadata": {},
   "outputs": [],
   "source": [
    "# 5. Prepare data collator\n",
    "data_collator = DataCollatorWithPadding(tokenizer=tokenizer)\n",
    "\n",
    "# 6. Metrics function\n",
    "clf_metrics = evaluate.combine([\"accuracy\", \"f1\", \"precision\", \"recall\"])"
   ]
  },
  {
   "cell_type": "code",
   "execution_count": 9,
   "metadata": {},
   "outputs": [],
   "source": [
    "def sigmoid(x):\n",
    "    return 1 / (1 + np.exp(-x))\n",
    "\n",
    "\n",
    "def compute_metrics(eval_pred):\n",
    "    predictions, labels = eval_pred\n",
    "    predictions = sigmoid(predictions)\n",
    "    predictions = (predictions > 0.5).astype(int).reshape(-1)\n",
    "    return clf_metrics.compute(\n",
    "        predictions=predictions, references=labels.astype(int).reshape(-1)\n",
    "    )"
   ]
  },
  {
   "cell_type": "code",
   "execution_count": 10,
   "metadata": {},
   "outputs": [
    {
     "name": "stderr",
     "output_type": "stream",
     "text": [
      "Some weights of BertForSequenceClassification were not initialized from the model checkpoint at google-bert/bert-base-uncased and are newly initialized: ['classifier.bias', 'classifier.weight']\n",
      "You should probably TRAIN this model on a down-stream task to be able to use it for predictions and inference.\n"
     ]
    }
   ],
   "source": [
    "# 7. Initialize model\n",
    "model = AutoModelForSequenceClassification.from_pretrained(\n",
    "    model_path,\n",
    "    num_labels=len(all_classes),\n",
    "    id2label=id2class,\n",
    "    label2id=class2id,\n",
    "    problem_type=\"multi_label_classification\",\n",
    ")"
   ]
  },
  {
   "cell_type": "code",
   "execution_count": 12,
   "metadata": {},
   "outputs": [],
   "source": [
    "# 8. Configure training arguments\n",
    "training_args = TrainingArguments(\n",
    "    output_dir=\"multilabel_model\",\n",
    "    learning_rate=2e-5,\n",
    "    per_device_train_batch_size=8,\n",
    "    per_device_eval_batch_size=8,\n",
    "    num_train_epochs=3,\n",
    "    weight_decay=0.01,\n",
    "    eval_strategy=\"epoch\",\n",
    "    save_strategy=\"epoch\",\n",
    "    load_best_model_at_end=True,\n",
    ")"
   ]
  },
  {
   "cell_type": "code",
   "execution_count": 13,
   "metadata": {},
   "outputs": [
    {
     "name": "stderr",
     "output_type": "stream",
     "text": [
      "/var/folders/bd/m7_xt1cd097bwm56ny1027480000gn/T/ipykernel_43652/2561592369.py:2: FutureWarning: `tokenizer` is deprecated and will be removed in version 5.0.0 for `Trainer.__init__`. Use `processing_class` instead.\n",
      "  trainer = Trainer(\n"
     ]
    }
   ],
   "source": [
    "# 9. Initialize trainer\n",
    "trainer = Trainer(\n",
    "    model=model,\n",
    "    args=training_args,\n",
    "    train_dataset=tokenized_dataset[\"train\"],\n",
    "    eval_dataset=tokenized_dataset[\"test\"],\n",
    "    tokenizer=tokenizer,\n",
    "    data_collator=data_collator,\n",
    "    compute_metrics=compute_metrics,\n",
    ")"
   ]
  },
  {
   "cell_type": "code",
   "execution_count": 14,
   "metadata": {},
   "outputs": [
    {
     "data": {
      "text/html": [
       "\n",
       "    <div>\n",
       "      \n",
       "      <progress value='819' max='819' style='width:300px; height:20px; vertical-align: middle;'></progress>\n",
       "      [819/819 03:27, Epoch 3/3]\n",
       "    </div>\n",
       "    <table border=\"1\" class=\"dataframe\">\n",
       "  <thead>\n",
       " <tr style=\"text-align: left;\">\n",
       "      <th>Epoch</th>\n",
       "      <th>Training Loss</th>\n",
       "      <th>Validation Loss</th>\n",
       "      <th>Accuracy</th>\n",
       "      <th>F1</th>\n",
       "      <th>Precision</th>\n",
       "      <th>Recall</th>\n",
       "    </tr>\n",
       "  </thead>\n",
       "  <tbody>\n",
       "    <tr>\n",
       "      <td>1</td>\n",
       "      <td>No log</td>\n",
       "      <td>0.313122</td>\n",
       "      <td>0.888598</td>\n",
       "      <td>0.783274</td>\n",
       "      <td>0.881745</td>\n",
       "      <td>0.704587</td>\n",
       "    </tr>\n",
       "    <tr>\n",
       "      <td>2</td>\n",
       "      <td>0.358000</td>\n",
       "      <td>0.255563</td>\n",
       "      <td>0.912189</td>\n",
       "      <td>0.838710</td>\n",
       "      <td>0.882472</td>\n",
       "      <td>0.799083</td>\n",
       "    </tr>\n",
       "    <tr>\n",
       "      <td>3</td>\n",
       "      <td>0.358000</td>\n",
       "      <td>0.242219</td>\n",
       "      <td>0.918480</td>\n",
       "      <td>0.851125</td>\n",
       "      <td>0.889890</td>\n",
       "      <td>0.815596</td>\n",
       "    </tr>\n",
       "  </tbody>\n",
       "</table><p>"
      ],
      "text/plain": [
       "<IPython.core.display.HTML object>"
      ]
     },
     "metadata": {},
     "output_type": "display_data"
    },
    {
     "data": {
      "text/plain": [
       "TrainOutput(global_step=819, training_loss=0.29591103205605157, metrics={'train_runtime': 210.6872, 'train_samples_per_second': 31.041, 'train_steps_per_second': 3.887, 'total_flos': 144111160977000.0, 'train_loss': 0.29591103205605157, 'epoch': 3.0})"
      ]
     },
     "execution_count": 14,
     "metadata": {},
     "output_type": "execute_result"
    }
   ],
   "source": [
    "# 10. Train model\n",
    "trainer.train()"
   ]
  },
  {
   "cell_type": "code",
   "execution_count": 17,
   "metadata": {},
   "outputs": [],
   "source": [
    "# 12. Function to make predictions\n",
    "def predict(text):\n",
    "    inputs = tokenizer(text, return_tensors=\"pt\", truncation=True, padding=True).to(\n",
    "        model.device\n",
    "    )\n",
    "    outputs = model(**inputs)\n",
    "    logits = outputs.logits.detach().cpu().numpy()\n",
    "    probs = sigmoid(logits)[0]\n",
    "\n",
    "    predictions = (probs > 0.5).astype(int)\n",
    "\n",
    "    # Get sentiment prediction\n",
    "    sentiment_idx = np.argmax(probs[: len(sentiment_classes)])\n",
    "    sentiment = sentiment_classes[sentiment_idx]\n",
    "\n",
    "    # Get target predictions (can be multiple)\n",
    "    target_predictions = []\n",
    "    for i, val in enumerate(predictions[len(sentiment_classes) :]):\n",
    "        if val == 1:\n",
    "            target_predictions.append(target_classes[i])\n",
    "\n",
    "    return {\n",
    "        \"sentiment\": sentiment,\n",
    "        \"targets\": target_predictions,\n",
    "        \"probabilities\": {id2class[i]: float(probs[i]) for i in range(len(probs))},\n",
    "    }"
   ]
  },
  {
   "cell_type": "code",
   "execution_count": null,
   "metadata": {},
   "outputs": [],
   "source": []
  }
 ],
 "metadata": {
  "kernelspec": {
   "display_name": ".venv",
   "language": "python",
   "name": "python3"
  },
  "language_info": {
   "codemirror_mode": {
    "name": "ipython",
    "version": 3
   },
   "file_extension": ".py",
   "mimetype": "text/x-python",
   "name": "python",
   "nbconvert_exporter": "python",
   "pygments_lexer": "ipython3",
   "version": "3.12.6"
  }
 },
 "nbformat": 4,
 "nbformat_minor": 2
}
