{
 "cells": [
  {
   "cell_type": "code",
   "execution_count": 23,
   "metadata": {},
   "outputs": [
    {
     "name": "stderr",
     "output_type": "stream",
     "text": [
      "Using the latest cached version of the module from /VData/resources/huggingface/modules/evaluate_modules/metrics/evaluate-metric--f1/34c46321f42186df33a6260966e34a368f14868d9cc2ba47d142112e2800d233 (last modified on Thu Mar 20 16:34:30 2025) since it couldn't be found locally at evaluate-metric--f1, or remotely on the Hugging Face Hub.\n",
      "Using the latest cached version of the module from /VData/resources/huggingface/modules/evaluate_modules/metrics/evaluate-metric--precision/155d3220d6cd4a6553f12da68eeb3d1f97cf431206304a4bc6e2d564c29502e9 (last modified on Thu Mar 20 16:34:31 2025) since it couldn't be found locally at evaluate-metric--precision, or remotely on the Hugging Face Hub.\n",
      "Using the latest cached version of the module from /VData/resources/huggingface/modules/evaluate_modules/metrics/evaluate-metric--recall/11f90e583db35601050aed380d48e83202a896976b9608432fba9244fb447f24 (last modified on Thu Mar 20 16:34:31 2025) since it couldn't be found locally at evaluate-metric--recall, or remotely on the Hugging Face Hub.\n"
     ]
    }
   ],
   "source": [
    "import copy\n",
    "from functools import lru_cache\n",
    "from pathlib import Path\n",
    "from typing import Any, TypedDict\n",
    "\n",
    "import evaluate\n",
    "import numpy as np\n",
    "import pandas as pd\n",
    "import polars as pl\n",
    "import torch\n",
    "import torch.nn.functional as F\n",
    "from datasets import Dataset\n",
    "from loguru import logger\n",
    "from sklearn.metrics import accuracy_score, precision_score, recall_score\n",
    "from sklearn.model_selection import GroupShuffleSplit\n",
    "from transformers import (\n",
    "    AutoModelForSequenceClassification,\n",
    "    AutoTokenizer,\n",
    "    DataCollatorWithPadding,\n",
    "    TextClassificationPipeline,\n",
    "    Trainer,\n",
    "    TrainingArguments,\n",
    ")\n",
    "from transformers.modeling_outputs import (\n",
    "    ModelOutput,  # or just use dict if not subclassing\n",
    ")\n",
    "\n",
    "import oxonfair\n",
    "from oxonfair import group_metrics as gm\n",
    "\n",
    "\n",
    "class FairnessMetrics(TypedDict):\n",
    "    equal_opportunity: float\n",
    "    min_recall: float\n",
    "    accuracy: float\n",
    "    precision: float\n",
    "    recall: float\n",
    "\n",
    "\n",
    "def calculate_metrics(\n",
    "    test_groups: pl.Series, test_labels: pl.Series, predictions: list[str] | np.ndarray\n",
    ") -> FairnessMetrics:\n",
    "    groups = test_groups.to_numpy()\n",
    "    preds0 = np.array(predictions)[groups == 0]\n",
    "    preds1 = np.array(predictions)[groups == 1]\n",
    "    labels0 = test_labels.to_numpy()[groups == 0]\n",
    "    labels1 = test_labels.to_numpy()[groups == 1]\n",
    "\n",
    "    recall1 = recall_score(y_true=labels1, y_pred=preds1)\n",
    "    recall0 = recall_score(y_true=labels0, y_pred=preds0)\n",
    "\n",
    "    min_recall = min(recall0, recall1)\n",
    "    equal_opportunity = abs(recall1 - recall0)\n",
    "    return {\n",
    "        \"min_recall\": min_recall,\n",
    "        \"equal_opportunity\": equal_opportunity,\n",
    "        \"accuracy\": accuracy_score(y_true=test_labels.to_numpy(), y_pred=predictions),\n",
    "        \"precision\": precision_score(y_true=test_labels, y_pred=predictions),\n",
    "        \"recall\": recall_score(y_true=test_labels, y_pred=predictions),\n",
    "    }\n",
    "\n",
    "\n",
    "clf_metrics = evaluate.combine([\"accuracy\", \"f1\", \"precision\", \"recall\"])\n",
    "CACHE_DIR = Path().cwd().parent / \".cache\"\n",
    "if not CACHE_DIR.exists():\n",
    "    CACHE_DIR.mkdir()\n",
    "\n",
    "\n",
    "def sigmoid(x):\n",
    "    return 1 / (1 + np.exp(-x))\n",
    "\n",
    "\n",
    "def compute_metrics(eval_pred):\n",
    "    predictions, labels = eval_pred\n",
    "    predictions = sigmoid(predictions)\n",
    "    predictions = (predictions > 0.5).astype(int).reshape(-1)\n",
    "    return clf_metrics.compute(\n",
    "        predictions=predictions, references=labels.astype(int).reshape(-1)\n",
    "    )\n",
    "\n",
    "\n",
    "# 8. Configure training arguments\n",
    "training_args = TrainingArguments(\n",
    "    output_dir=\"multilabel_model\",\n",
    "    learning_rate=2e-5,\n",
    "    per_device_train_batch_size=8,\n",
    "    per_device_eval_batch_size=8,\n",
    "    num_train_epochs=3,\n",
    "    weight_decay=0.01,\n",
    "    eval_strategy=\"epoch\",\n",
    "    save_strategy=\"epoch\",\n",
    "    load_best_model_at_end=True,\n",
    "    label_names=[\"labels\"],\n",
    ")"
   ]
  },
  {
   "cell_type": "code",
   "execution_count": 2,
   "metadata": {},
   "outputs": [],
   "source": [
    "# 3. Load tokenizer\n",
    "model_path = \"google-bert/bert-base-uncased\"\n",
    "tokenizer = AutoTokenizer.from_pretrained(model_path)"
   ]
  },
  {
   "cell_type": "code",
   "execution_count": null,
   "metadata": {},
   "outputs": [
    {
     "name": "stderr",
     "output_type": "stream",
     "text": [
      "Some weights of BertForSequenceClassification were not initialized from the model checkpoint at google-bert/bert-base-uncased and are newly initialized: ['classifier.bias', 'classifier.weight']\n",
      "You should probably TRAIN this model on a down-stream task to be able to use it for predictions and inference.\n",
      "Map: 100%|██████████| 6131/6131 [00:00<00:00, 7212.42 examples/s]\n",
      "Map: 100%|██████████| 1223/1223 [00:00<00:00, 8574.93 examples/s]\n",
      "/tmp/ipykernel_3439903/3999273676.py:176: FutureWarning: `tokenizer` is deprecated and will be removed in version 5.0.0 for `Trainer.__init__`. Use `processing_class` instead.\n",
      "  trainer = Trainer(\n"
     ]
    },
    {
     "data": {
      "text/html": [
       "\n",
       "    <div>\n",
       "      \n",
       "      <progress value='576' max='576' style='width:300px; height:20px; vertical-align: middle;'></progress>\n",
       "      [576/576 01:20, Epoch 3/3]\n",
       "    </div>\n",
       "    <table border=\"1\" class=\"dataframe\">\n",
       "  <thead>\n",
       " <tr style=\"text-align: left;\">\n",
       "      <th>Epoch</th>\n",
       "      <th>Training Loss</th>\n",
       "      <th>Validation Loss</th>\n",
       "      <th>Accuracy</th>\n",
       "      <th>F1</th>\n",
       "      <th>Precision</th>\n",
       "      <th>Recall</th>\n",
       "    </tr>\n",
       "  </thead>\n",
       "  <tbody>\n",
       "    <tr>\n",
       "      <td>1</td>\n",
       "      <td>No log</td>\n",
       "      <td>0.648025</td>\n",
       "      <td>0.679068</td>\n",
       "      <td>0.715889</td>\n",
       "      <td>0.614667</td>\n",
       "      <td>0.857019</td>\n",
       "    </tr>\n",
       "    <tr>\n",
       "      <td>2</td>\n",
       "      <td>No log</td>\n",
       "      <td>0.600651</td>\n",
       "      <td>0.690515</td>\n",
       "      <td>0.732603</td>\n",
       "      <td>0.618366</td>\n",
       "      <td>0.898614</td>\n",
       "    </tr>\n",
       "    <tr>\n",
       "      <td>3</td>\n",
       "      <td>0.601400</td>\n",
       "      <td>0.616856</td>\n",
       "      <td>0.686018</td>\n",
       "      <td>0.730526</td>\n",
       "      <td>0.613797</td>\n",
       "      <td>0.902080</td>\n",
       "    </tr>\n",
       "  </tbody>\n",
       "</table><p>"
      ],
      "text/plain": [
       "<IPython.core.display.HTML object>"
      ]
     },
     "metadata": {},
     "output_type": "display_data"
    },
    {
     "data": {
      "text/html": [],
      "text/plain": [
       "<IPython.core.display.HTML object>"
      ]
     },
     "metadata": {},
     "output_type": "display_data"
    },
    {
     "name": "stderr",
     "output_type": "stream",
     "text": [
      "Some weights of BertForSequenceClassification were not initialized from the model checkpoint at google-bert/bert-base-uncased and are newly initialized: ['classifier.bias', 'classifier.weight']\n",
      "You should probably TRAIN this model on a down-stream task to be able to use it for predictions and inference.\n",
      "Map: 100%|██████████| 6118/6118 [00:00<00:00, 8305.83 examples/s]\n",
      "Map: 100%|██████████| 1236/1236 [00:00<00:00, 8185.04 examples/s]\n",
      "/tmp/ipykernel_3439903/3999273676.py:176: FutureWarning: `tokenizer` is deprecated and will be removed in version 5.0.0 for `Trainer.__init__`. Use `processing_class` instead.\n",
      "  trainer = Trainer(\n"
     ]
    },
    {
     "data": {
      "text/html": [
       "\n",
       "    <div>\n",
       "      \n",
       "      <progress value='576' max='576' style='width:300px; height:20px; vertical-align: middle;'></progress>\n",
       "      [576/576 01:27, Epoch 3/3]\n",
       "    </div>\n",
       "    <table border=\"1\" class=\"dataframe\">\n",
       "  <thead>\n",
       " <tr style=\"text-align: left;\">\n",
       "      <th>Epoch</th>\n",
       "      <th>Training Loss</th>\n",
       "      <th>Validation Loss</th>\n",
       "      <th>Accuracy</th>\n",
       "      <th>F1</th>\n",
       "      <th>Precision</th>\n",
       "      <th>Recall</th>\n",
       "    </tr>\n",
       "  </thead>\n",
       "  <tbody>\n",
       "    <tr>\n",
       "      <td>1</td>\n",
       "      <td>No log</td>\n",
       "      <td>0.653099</td>\n",
       "      <td>0.673544</td>\n",
       "      <td>0.702324</td>\n",
       "      <td>0.596118</td>\n",
       "      <td>0.854578</td>\n",
       "    </tr>\n",
       "    <tr>\n",
       "      <td>2</td>\n",
       "      <td>No log</td>\n",
       "      <td>0.644704</td>\n",
       "      <td>0.678398</td>\n",
       "      <td>0.711852</td>\n",
       "      <td>0.596960</td>\n",
       "      <td>0.881508</td>\n",
       "    </tr>\n",
       "    <tr>\n",
       "      <td>3</td>\n",
       "      <td>0.613700</td>\n",
       "      <td>0.659259</td>\n",
       "      <td>0.677994</td>\n",
       "      <td>0.712635</td>\n",
       "      <td>0.596014</td>\n",
       "      <td>0.885996</td>\n",
       "    </tr>\n",
       "  </tbody>\n",
       "</table><p>"
      ],
      "text/plain": [
       "<IPython.core.display.HTML object>"
      ]
     },
     "metadata": {},
     "output_type": "display_data"
    },
    {
     "data": {
      "text/html": [],
      "text/plain": [
       "<IPython.core.display.HTML object>"
      ]
     },
     "metadata": {},
     "output_type": "display_data"
    },
    {
     "name": "stderr",
     "output_type": "stream",
     "text": [
      "Some weights of BertForSequenceClassification were not initialized from the model checkpoint at google-bert/bert-base-uncased and are newly initialized: ['classifier.bias', 'classifier.weight']\n",
      "You should probably TRAIN this model on a down-stream task to be able to use it for predictions and inference.\n",
      "Map: 100%|██████████| 5105/5105 [00:00<00:00, 8551.54 examples/s]\n",
      "Map: 100%|██████████| 2249/2249 [00:00<00:00, 9204.08 examples/s]\n",
      "/tmp/ipykernel_3439903/3999273676.py:176: FutureWarning: `tokenizer` is deprecated and will be removed in version 5.0.0 for `Trainer.__init__`. Use `processing_class` instead.\n",
      "  trainer = Trainer(\n"
     ]
    },
    {
     "data": {
      "text/html": [
       "\n",
       "    <div>\n",
       "      \n",
       "      <progress value='480' max='480' style='width:300px; height:20px; vertical-align: middle;'></progress>\n",
       "      [480/480 01:18, Epoch 3/3]\n",
       "    </div>\n",
       "    <table border=\"1\" class=\"dataframe\">\n",
       "  <thead>\n",
       " <tr style=\"text-align: left;\">\n",
       "      <th>Epoch</th>\n",
       "      <th>Training Loss</th>\n",
       "      <th>Validation Loss</th>\n",
       "      <th>Accuracy</th>\n",
       "      <th>F1</th>\n",
       "      <th>Precision</th>\n",
       "      <th>Recall</th>\n",
       "    </tr>\n",
       "  </thead>\n",
       "  <tbody>\n",
       "    <tr>\n",
       "      <td>1</td>\n",
       "      <td>No log</td>\n",
       "      <td>0.650176</td>\n",
       "      <td>0.778791</td>\n",
       "      <td>0.801516</td>\n",
       "      <td>0.706399</td>\n",
       "      <td>0.926233</td>\n",
       "    </tr>\n",
       "    <tr>\n",
       "      <td>2</td>\n",
       "      <td>No log</td>\n",
       "      <td>0.739308</td>\n",
       "      <td>0.740774</td>\n",
       "      <td>0.779417</td>\n",
       "      <td>0.660892</td>\n",
       "      <td>0.949746</td>\n",
       "    </tr>\n",
       "    <tr>\n",
       "      <td>3</td>\n",
       "      <td>No log</td>\n",
       "      <td>0.721889</td>\n",
       "      <td>0.753001</td>\n",
       "      <td>0.786387</td>\n",
       "      <td>0.674472</td>\n",
       "      <td>0.942831</td>\n",
       "    </tr>\n",
       "  </tbody>\n",
       "</table><p>"
      ],
      "text/plain": [
       "<IPython.core.display.HTML object>"
      ]
     },
     "metadata": {},
     "output_type": "display_data"
    },
    {
     "data": {
      "text/html": [],
      "text/plain": [
       "<IPython.core.display.HTML object>"
      ]
     },
     "metadata": {},
     "output_type": "display_data"
    },
    {
     "name": "stderr",
     "output_type": "stream",
     "text": [
      "\u001b[32m2025-04-09 10:23:34.451\u001b[0m | \u001b[1mINFO    \u001b[0m | \u001b[36m__main__\u001b[0m:\u001b[36m<module>\u001b[0m:\u001b[36m204\u001b[0m - \u001b[1mDone training ensemble! Evaluating on test set\u001b[0m\n",
      "Map: 100%|██████████| 1526/1526 [00:00<00:00, 7972.77 examples/s]\n",
      "\u001b[32m2025-04-09 10:23:34.653\u001b[0m | \u001b[34m\u001b[1mDEBUG   \u001b[0m | \u001b[36m__main__\u001b[0m:\u001b[36m<module>\u001b[0m:\u001b[36m209\u001b[0m - \u001b[34m\u001b[1mEvaluating ensemble...\u001b[0m\n",
      "Device set to use cuda:0\n",
      "Device set to use cuda:0\n",
      "Device set to use cuda:0\n",
      "\u001b[32m2025-04-09 10:24:38.350\u001b[0m | \u001b[34m\u001b[1mDEBUG   \u001b[0m | \u001b[36m__main__\u001b[0m:\u001b[36m<module>\u001b[0m:\u001b[36m216\u001b[0m - \u001b[34m\u001b[1mEvaluating first member...\u001b[0m\n",
      "Device set to use cuda:0\n",
      "Some weights of BertForSequenceClassification were not initialized from the model checkpoint at google-bert/bert-base-uncased and are newly initialized: ['classifier.bias', 'classifier.weight']\n",
      "You should probably TRAIN this model on a down-stream task to be able to use it for predictions and inference.\n",
      "Map: 100%|██████████| 4894/4894 [00:00<00:00, 6890.09 examples/s]\n",
      "Map: 100%|██████████| 2233/2233 [00:00<00:00, 9010.47 examples/s]\n",
      "/tmp/ipykernel_3439903/3999273676.py:176: FutureWarning: `tokenizer` is deprecated and will be removed in version 5.0.0 for `Trainer.__init__`. Use `processing_class` instead.\n",
      "  trainer = Trainer(\n"
     ]
    },
    {
     "data": {
      "text/html": [
       "\n",
       "    <div>\n",
       "      \n",
       "      <progress value='459' max='459' style='width:300px; height:20px; vertical-align: middle;'></progress>\n",
       "      [459/459 01:12, Epoch 3/3]\n",
       "    </div>\n",
       "    <table border=\"1\" class=\"dataframe\">\n",
       "  <thead>\n",
       " <tr style=\"text-align: left;\">\n",
       "      <th>Epoch</th>\n",
       "      <th>Training Loss</th>\n",
       "      <th>Validation Loss</th>\n",
       "      <th>Accuracy</th>\n",
       "      <th>F1</th>\n",
       "      <th>Precision</th>\n",
       "      <th>Recall</th>\n",
       "    </tr>\n",
       "  </thead>\n",
       "  <tbody>\n",
       "    <tr>\n",
       "      <td>1</td>\n",
       "      <td>No log</td>\n",
       "      <td>0.597568</td>\n",
       "      <td>0.794223</td>\n",
       "      <td>0.810242</td>\n",
       "      <td>0.724252</td>\n",
       "      <td>0.919400</td>\n",
       "    </tr>\n",
       "    <tr>\n",
       "      <td>2</td>\n",
       "      <td>No log</td>\n",
       "      <td>0.601262</td>\n",
       "      <td>0.796014</td>\n",
       "      <td>0.812513</td>\n",
       "      <td>0.724404</td>\n",
       "      <td>0.925023</td>\n",
       "    </tr>\n",
       "    <tr>\n",
       "      <td>3</td>\n",
       "      <td>No log</td>\n",
       "      <td>0.651590</td>\n",
       "      <td>0.782579</td>\n",
       "      <td>0.804824</td>\n",
       "      <td>0.704681</td>\n",
       "      <td>0.938144</td>\n",
       "    </tr>\n",
       "  </tbody>\n",
       "</table><p>"
      ],
      "text/plain": [
       "<IPython.core.display.HTML object>"
      ]
     },
     "metadata": {},
     "output_type": "display_data"
    },
    {
     "data": {
      "text/html": [],
      "text/plain": [
       "<IPython.core.display.HTML object>"
      ]
     },
     "metadata": {},
     "output_type": "display_data"
    },
    {
     "name": "stderr",
     "output_type": "stream",
     "text": [
      "Some weights of BertForSequenceClassification were not initialized from the model checkpoint at google-bert/bert-base-uncased and are newly initialized: ['classifier.bias', 'classifier.weight']\n",
      "You should probably TRAIN this model on a down-stream task to be able to use it for predictions and inference.\n",
      "Map: 100%|██████████| 5900/5900 [00:00<00:00, 9096.64 examples/s]\n",
      "Map: 100%|██████████| 1227/1227 [00:00<00:00, 8829.08 examples/s]\n",
      "/tmp/ipykernel_3439903/3999273676.py:176: FutureWarning: `tokenizer` is deprecated and will be removed in version 5.0.0 for `Trainer.__init__`. Use `processing_class` instead.\n",
      "  trainer = Trainer(\n"
     ]
    },
    {
     "data": {
      "text/html": [
       "\n",
       "    <div>\n",
       "      \n",
       "      <progress value='555' max='555' style='width:300px; height:20px; vertical-align: middle;'></progress>\n",
       "      [555/555 01:26, Epoch 3/3]\n",
       "    </div>\n",
       "    <table border=\"1\" class=\"dataframe\">\n",
       "  <thead>\n",
       " <tr style=\"text-align: left;\">\n",
       "      <th>Epoch</th>\n",
       "      <th>Training Loss</th>\n",
       "      <th>Validation Loss</th>\n",
       "      <th>Accuracy</th>\n",
       "      <th>F1</th>\n",
       "      <th>Precision</th>\n",
       "      <th>Recall</th>\n",
       "    </tr>\n",
       "  </thead>\n",
       "  <tbody>\n",
       "    <tr>\n",
       "      <td>1</td>\n",
       "      <td>No log</td>\n",
       "      <td>0.624148</td>\n",
       "      <td>0.681337</td>\n",
       "      <td>0.708644</td>\n",
       "      <td>0.600379</td>\n",
       "      <td>0.864545</td>\n",
       "    </tr>\n",
       "    <tr>\n",
       "      <td>2</td>\n",
       "      <td>No log</td>\n",
       "      <td>0.602093</td>\n",
       "      <td>0.686634</td>\n",
       "      <td>0.717175</td>\n",
       "      <td>0.602224</td>\n",
       "      <td>0.886364</td>\n",
       "    </tr>\n",
       "    <tr>\n",
       "      <td>3</td>\n",
       "      <td>0.584000</td>\n",
       "      <td>0.615747</td>\n",
       "      <td>0.685819</td>\n",
       "      <td>0.718099</td>\n",
       "      <td>0.600612</td>\n",
       "      <td>0.892727</td>\n",
       "    </tr>\n",
       "  </tbody>\n",
       "</table><p>"
      ],
      "text/plain": [
       "<IPython.core.display.HTML object>"
      ]
     },
     "metadata": {},
     "output_type": "display_data"
    },
    {
     "data": {
      "text/html": [],
      "text/plain": [
       "<IPython.core.display.HTML object>"
      ]
     },
     "metadata": {},
     "output_type": "display_data"
    },
    {
     "name": "stderr",
     "output_type": "stream",
     "text": [
      "Some weights of BertForSequenceClassification were not initialized from the model checkpoint at google-bert/bert-base-uncased and are newly initialized: ['classifier.bias', 'classifier.weight']\n",
      "You should probably TRAIN this model on a down-stream task to be able to use it for predictions and inference.\n",
      "Map: 100%|██████████| 4892/4892 [00:00<00:00, 6219.93 examples/s]\n",
      "Map: 100%|██████████| 2235/2235 [00:00<00:00, 8478.61 examples/s]\n",
      "/tmp/ipykernel_3439903/3999273676.py:176: FutureWarning: `tokenizer` is deprecated and will be removed in version 5.0.0 for `Trainer.__init__`. Use `processing_class` instead.\n",
      "  trainer = Trainer(\n"
     ]
    },
    {
     "data": {
      "text/html": [
       "\n",
       "    <div>\n",
       "      \n",
       "      <progress value='459' max='459' style='width:300px; height:20px; vertical-align: middle;'></progress>\n",
       "      [459/459 01:15, Epoch 3/3]\n",
       "    </div>\n",
       "    <table border=\"1\" class=\"dataframe\">\n",
       "  <thead>\n",
       " <tr style=\"text-align: left;\">\n",
       "      <th>Epoch</th>\n",
       "      <th>Training Loss</th>\n",
       "      <th>Validation Loss</th>\n",
       "      <th>Accuracy</th>\n",
       "      <th>F1</th>\n",
       "      <th>Precision</th>\n",
       "      <th>Recall</th>\n",
       "    </tr>\n",
       "  </thead>\n",
       "  <tbody>\n",
       "    <tr>\n",
       "      <td>1</td>\n",
       "      <td>No log</td>\n",
       "      <td>0.667243</td>\n",
       "      <td>0.786353</td>\n",
       "      <td>0.807498</td>\n",
       "      <td>0.721022</td>\n",
       "      <td>0.917545</td>\n",
       "    </tr>\n",
       "    <tr>\n",
       "      <td>2</td>\n",
       "      <td>No log</td>\n",
       "      <td>0.635986</td>\n",
       "      <td>0.787919</td>\n",
       "      <td>0.811531</td>\n",
       "      <td>0.716895</td>\n",
       "      <td>0.934952</td>\n",
       "    </tr>\n",
       "    <tr>\n",
       "      <td>3</td>\n",
       "      <td>No log</td>\n",
       "      <td>0.640874</td>\n",
       "      <td>0.785906</td>\n",
       "      <td>0.810081</td>\n",
       "      <td>0.714636</td>\n",
       "      <td>0.934952</td>\n",
       "    </tr>\n",
       "  </tbody>\n",
       "</table><p>"
      ],
      "text/plain": [
       "<IPython.core.display.HTML object>"
      ]
     },
     "metadata": {},
     "output_type": "display_data"
    },
    {
     "data": {
      "text/html": [],
      "text/plain": [
       "<IPython.core.display.HTML object>"
      ]
     },
     "metadata": {},
     "output_type": "display_data"
    },
    {
     "name": "stderr",
     "output_type": "stream",
     "text": [
      "\u001b[32m2025-04-09 10:29:14.679\u001b[0m | \u001b[1mINFO    \u001b[0m | \u001b[36m__main__\u001b[0m:\u001b[36m<module>\u001b[0m:\u001b[36m204\u001b[0m - \u001b[1mDone training ensemble! Evaluating on test set\u001b[0m\n",
      "Map: 100%|██████████| 1753/1753 [00:00<00:00, 8946.17 examples/s]\n",
      "\u001b[32m2025-04-09 10:29:14.883\u001b[0m | \u001b[34m\u001b[1mDEBUG   \u001b[0m | \u001b[36m__main__\u001b[0m:\u001b[36m<module>\u001b[0m:\u001b[36m209\u001b[0m - \u001b[34m\u001b[1mEvaluating ensemble...\u001b[0m\n",
      "Device set to use cuda:0\n",
      "Device set to use cuda:0\n",
      "Device set to use cuda:0\n",
      "\u001b[32m2025-04-09 10:30:28.155\u001b[0m | \u001b[34m\u001b[1mDEBUG   \u001b[0m | \u001b[36m__main__\u001b[0m:\u001b[36m<module>\u001b[0m:\u001b[36m216\u001b[0m - \u001b[34m\u001b[1mEvaluating first member...\u001b[0m\n",
      "Device set to use cuda:0\n",
      "Some weights of BertForSequenceClassification were not initialized from the model checkpoint at google-bert/bert-base-uncased and are newly initialized: ['classifier.bias', 'classifier.weight']\n",
      "You should probably TRAIN this model on a down-stream task to be able to use it for predictions and inference.\n",
      "Map: 100%|██████████| 4884/4884 [00:00<00:00, 8834.40 examples/s]\n",
      "Map: 100%|██████████| 2243/2243 [00:00<00:00, 9164.08 examples/s]\n",
      "/tmp/ipykernel_3439903/3999273676.py:176: FutureWarning: `tokenizer` is deprecated and will be removed in version 5.0.0 for `Trainer.__init__`. Use `processing_class` instead.\n",
      "  trainer = Trainer(\n"
     ]
    },
    {
     "data": {
      "text/html": [
       "\n",
       "    <div>\n",
       "      \n",
       "      <progress value='459' max='459' style='width:300px; height:20px; vertical-align: middle;'></progress>\n",
       "      [459/459 01:16, Epoch 3/3]\n",
       "    </div>\n",
       "    <table border=\"1\" class=\"dataframe\">\n",
       "  <thead>\n",
       " <tr style=\"text-align: left;\">\n",
       "      <th>Epoch</th>\n",
       "      <th>Training Loss</th>\n",
       "      <th>Validation Loss</th>\n",
       "      <th>Accuracy</th>\n",
       "      <th>F1</th>\n",
       "      <th>Precision</th>\n",
       "      <th>Recall</th>\n",
       "    </tr>\n",
       "  </thead>\n",
       "  <tbody>\n",
       "    <tr>\n",
       "      <td>1</td>\n",
       "      <td>No log</td>\n",
       "      <td>0.646348</td>\n",
       "      <td>0.792911</td>\n",
       "      <td>0.817090</td>\n",
       "      <td>0.719736</td>\n",
       "      <td>0.944900</td>\n",
       "    </tr>\n",
       "    <tr>\n",
       "      <td>2</td>\n",
       "      <td>No log</td>\n",
       "      <td>0.591810</td>\n",
       "      <td>0.812082</td>\n",
       "      <td>0.828763</td>\n",
       "      <td>0.748075</td>\n",
       "      <td>0.928962</td>\n",
       "    </tr>\n",
       "    <tr>\n",
       "      <td>3</td>\n",
       "      <td>No log</td>\n",
       "      <td>0.620523</td>\n",
       "      <td>0.799376</td>\n",
       "      <td>0.822974</td>\n",
       "      <td>0.724377</td>\n",
       "      <td>0.952641</td>\n",
       "    </tr>\n",
       "  </tbody>\n",
       "</table><p>"
      ],
      "text/plain": [
       "<IPython.core.display.HTML object>"
      ]
     },
     "metadata": {},
     "output_type": "display_data"
    },
    {
     "data": {
      "text/html": [],
      "text/plain": [
       "<IPython.core.display.HTML object>"
      ]
     },
     "metadata": {},
     "output_type": "display_data"
    },
    {
     "name": "stderr",
     "output_type": "stream",
     "text": [
      "Some weights of BertForSequenceClassification were not initialized from the model checkpoint at google-bert/bert-base-uncased and are newly initialized: ['classifier.bias', 'classifier.weight']\n",
      "You should probably TRAIN this model on a down-stream task to be able to use it for predictions and inference.\n",
      "Map: 100%|██████████| 5908/5908 [00:00<00:00, 8191.99 examples/s]\n",
      "Map: 100%|██████████| 1219/1219 [00:00<00:00, 8640.17 examples/s]\n",
      "/tmp/ipykernel_3439903/3999273676.py:176: FutureWarning: `tokenizer` is deprecated and will be removed in version 5.0.0 for `Trainer.__init__`. Use `processing_class` instead.\n",
      "  trainer = Trainer(\n"
     ]
    },
    {
     "data": {
      "text/html": [
       "\n",
       "    <div>\n",
       "      \n",
       "      <progress value='555' max='555' style='width:300px; height:20px; vertical-align: middle;'></progress>\n",
       "      [555/555 01:27, Epoch 3/3]\n",
       "    </div>\n",
       "    <table border=\"1\" class=\"dataframe\">\n",
       "  <thead>\n",
       " <tr style=\"text-align: left;\">\n",
       "      <th>Epoch</th>\n",
       "      <th>Training Loss</th>\n",
       "      <th>Validation Loss</th>\n",
       "      <th>Accuracy</th>\n",
       "      <th>F1</th>\n",
       "      <th>Precision</th>\n",
       "      <th>Recall</th>\n",
       "    </tr>\n",
       "  </thead>\n",
       "  <tbody>\n",
       "    <tr>\n",
       "      <td>1</td>\n",
       "      <td>No log</td>\n",
       "      <td>0.635686</td>\n",
       "      <td>0.680476</td>\n",
       "      <td>0.711588</td>\n",
       "      <td>0.604783</td>\n",
       "      <td>0.864209</td>\n",
       "    </tr>\n",
       "    <tr>\n",
       "      <td>2</td>\n",
       "      <td>No log</td>\n",
       "      <td>0.601604</td>\n",
       "      <td>0.681296</td>\n",
       "      <td>0.714443</td>\n",
       "      <td>0.604102</td>\n",
       "      <td>0.874101</td>\n",
       "    </tr>\n",
       "    <tr>\n",
       "      <td>3</td>\n",
       "      <td>0.585000</td>\n",
       "      <td>0.618900</td>\n",
       "      <td>0.682937</td>\n",
       "      <td>0.719011</td>\n",
       "      <td>0.603417</td>\n",
       "      <td>0.889388</td>\n",
       "    </tr>\n",
       "  </tbody>\n",
       "</table><p>"
      ],
      "text/plain": [
       "<IPython.core.display.HTML object>"
      ]
     },
     "metadata": {},
     "output_type": "display_data"
    },
    {
     "data": {
      "text/html": [],
      "text/plain": [
       "<IPython.core.display.HTML object>"
      ]
     },
     "metadata": {},
     "output_type": "display_data"
    },
    {
     "name": "stderr",
     "output_type": "stream",
     "text": [
      "Some weights of BertForSequenceClassification were not initialized from the model checkpoint at google-bert/bert-base-uncased and are newly initialized: ['classifier.bias', 'classifier.weight']\n",
      "You should probably TRAIN this model on a down-stream task to be able to use it for predictions and inference.\n",
      "Map: 100%|██████████| 4879/4879 [00:00<00:00, 8840.79 examples/s]\n",
      "Map: 100%|██████████| 2248/2248 [00:00<00:00, 9276.36 examples/s]\n",
      "/tmp/ipykernel_3439903/3999273676.py:176: FutureWarning: `tokenizer` is deprecated and will be removed in version 5.0.0 for `Trainer.__init__`. Use `processing_class` instead.\n",
      "  trainer = Trainer(\n"
     ]
    },
    {
     "data": {
      "text/html": [
       "\n",
       "    <div>\n",
       "      \n",
       "      <progress value='459' max='459' style='width:300px; height:20px; vertical-align: middle;'></progress>\n",
       "      [459/459 01:17, Epoch 3/3]\n",
       "    </div>\n",
       "    <table border=\"1\" class=\"dataframe\">\n",
       "  <thead>\n",
       " <tr style=\"text-align: left;\">\n",
       "      <th>Epoch</th>\n",
       "      <th>Training Loss</th>\n",
       "      <th>Validation Loss</th>\n",
       "      <th>Accuracy</th>\n",
       "      <th>F1</th>\n",
       "      <th>Precision</th>\n",
       "      <th>Recall</th>\n",
       "    </tr>\n",
       "  </thead>\n",
       "  <tbody>\n",
       "    <tr>\n",
       "      <td>1</td>\n",
       "      <td>No log</td>\n",
       "      <td>0.659510</td>\n",
       "      <td>0.803603</td>\n",
       "      <td>0.821219</td>\n",
       "      <td>0.737455</td>\n",
       "      <td>0.926450</td>\n",
       "    </tr>\n",
       "    <tr>\n",
       "      <td>2</td>\n",
       "      <td>No log</td>\n",
       "      <td>0.607633</td>\n",
       "      <td>0.810943</td>\n",
       "      <td>0.827726</td>\n",
       "      <td>0.743898</td>\n",
       "      <td>0.932846</td>\n",
       "    </tr>\n",
       "    <tr>\n",
       "      <td>3</td>\n",
       "      <td>No log</td>\n",
       "      <td>0.663349</td>\n",
       "      <td>0.799155</td>\n",
       "      <td>0.820655</td>\n",
       "      <td>0.725931</td>\n",
       "      <td>0.943810</td>\n",
       "    </tr>\n",
       "  </tbody>\n",
       "</table><p>"
      ],
      "text/plain": [
       "<IPython.core.display.HTML object>"
      ]
     },
     "metadata": {},
     "output_type": "display_data"
    },
    {
     "data": {
      "text/html": [],
      "text/plain": [
       "<IPython.core.display.HTML object>"
      ]
     },
     "metadata": {},
     "output_type": "display_data"
    },
    {
     "name": "stderr",
     "output_type": "stream",
     "text": [
      "\u001b[32m2025-04-09 10:35:08.564\u001b[0m | \u001b[1mINFO    \u001b[0m | \u001b[36m__main__\u001b[0m:\u001b[36m<module>\u001b[0m:\u001b[36m204\u001b[0m - \u001b[1mDone training ensemble! Evaluating on test set\u001b[0m\n",
      "Map: 100%|██████████| 1753/1753 [00:00<00:00, 6204.30 examples/s]\n",
      "\u001b[32m2025-04-09 10:35:08.856\u001b[0m | \u001b[34m\u001b[1mDEBUG   \u001b[0m | \u001b[36m__main__\u001b[0m:\u001b[36m<module>\u001b[0m:\u001b[36m209\u001b[0m - \u001b[34m\u001b[1mEvaluating ensemble...\u001b[0m\n",
      "Device set to use cuda:0\n",
      "Device set to use cuda:0\n",
      "Device set to use cuda:0\n",
      "\u001b[32m2025-04-09 10:36:23.607\u001b[0m | \u001b[34m\u001b[1mDEBUG   \u001b[0m | \u001b[36m__main__\u001b[0m:\u001b[36m<module>\u001b[0m:\u001b[36m216\u001b[0m - \u001b[34m\u001b[1mEvaluating first member...\u001b[0m\n",
      "Device set to use cuda:0\n"
     ]
    }
   ],
   "source": [
    "def majority_vote(lists: list[list[bool]]) -> list[bool]:\n",
    "    return [sum(sublist) > len(sublist) / 2 for sublist in lists]\n",
    "\n",
    "\n",
    "def convert_score(score: float, threshold: float = 0.5) -> bool:\n",
    "    return score > threshold\n",
    "\n",
    "\n",
    "def aggregate_scores(scores: list[list[dict]], threshold: float = 0.5) -> list[bool]:\n",
    "    num_preds = len(scores[0])\n",
    "    # Convert to list[(pred0, pred0, pred0), (pred1, ...]\n",
    "    final_preds = []\n",
    "    for pred_index in range(num_preds):\n",
    "        pred_list = []\n",
    "        for score_list in scores:\n",
    "            score_dict = score_list[pred_index]\n",
    "            pred_list.append(convert_score(score_dict[\"score\"], threshold=threshold))\n",
    "        final_preds.append(pred_list)\n",
    "    return majority_vote(final_preds)\n",
    "\n",
    "\n",
    "def max_index_by_key(lst: list[dict], key: str = \"score\"):\n",
    "    if not lst:\n",
    "        return None\n",
    "    return max(range(len(lst)), key=lambda i: lst[i][key])\n",
    "\n",
    "\n",
    "def ensemble_predict(texts: list[str], ensemble: list[Trainer]) -> list[int]:\n",
    "    device = ensemble[0].model.device  # Get device from first model\n",
    "    pipes = [\n",
    "        TextClassificationPipeline(\n",
    "            tokenizer=tokenizer,\n",
    "            model=trainer.model.to(device),\n",
    "            device=device,\n",
    "            truncation=True,\n",
    "        )\n",
    "        for trainer in ensemble\n",
    "    ]\n",
    "    preds = [pipe(texts) for pipe in pipes]\n",
    "    return aggregate_scores(preds)\n",
    "\n",
    "\n",
    "def get_full_data():\n",
    "    english_hatespeech = Path().cwd().parent / \"hatespeech-data\" / \"split\" / \"English\"\n",
    "    all_data = list(english_hatespeech.glob(\"*.tsv\"))\n",
    "    return (\n",
    "        pl.DataFrame(\n",
    "            pd.concat([pd.read_csv(f, sep=\"\\t\") for f in all_data]).drop(\n",
    "                columns=[\"city\", \"state\", \"country\", \"date\"]\n",
    "            )\n",
    "        )\n",
    "        .with_columns(\n",
    "            pl.col(\"gender\").replace(\"x\", None).cast(pl.Int8),\n",
    "            pl.col(\"age\").replace(\"x\", None).cast(pl.Int8),\n",
    "            pl.col(\"ethnicity\").replace(\"x\", None).cast(pl.Int8),\n",
    "        )\n",
    "        .drop_nulls()\n",
    "        .rename({\"label\": \"target\"})\n",
    "    )\n",
    "\n",
    "\n",
    "def create_dataset(\n",
    "    features: pl.DataFrame, labels: pl.Series, feature_names: list[str] | None = None\n",
    ") -> Dataset:\n",
    "    if feature_names is None:\n",
    "        feature_names = features.columns\n",
    "    feature_dict = {feature: features[feature].to_list() for feature in feature_names}\n",
    "    return Dataset.from_dict(\n",
    "        {\n",
    "            **feature_dict,\n",
    "            \"target\": labels.to_list(),\n",
    "        }\n",
    "    )\n",
    "\n",
    "\n",
    "@lru_cache\n",
    "def tokenize(text: str) -> dict[str, Any]:\n",
    "    return tokenizer(text, truncation=True)\n",
    "\n",
    "\n",
    "def preprocess_simple(example: dict[str, Any]) -> dict[str, Any]:\n",
    "    tokenized = tokenize(example[\"text\"])\n",
    "    labels = [float(example[key]) for key in [\"target\", \"gender\"]]\n",
    "    tokenized[\"labels\"] = labels\n",
    "    return tokenized\n",
    "\n",
    "\n",
    "def compute_loss_func(\n",
    "    outputs: ModelOutput | dict,\n",
    "    labels: torch.Tensor,\n",
    "    num_items_in_batch: int,  # noqa: ARG001\n",
    ") -> torch.Tensor:\n",
    "    \"\"\"\n",
    "    Custom loss function for HuggingFace Trainer:\n",
    "    - Binary log loss for the first element\n",
    "    - Squared loss (MSE) for the remaining elements\n",
    "\n",
    "    Args:\n",
    "        outputs: ModelOutput or dict containing 'logits' of shape (batch_size, num_outputs)\n",
    "        labels: Tensor of shape (batch_size, num_outputs), ground-truth labels\n",
    "        num_items_in_batch: Total number of items in the accumulated batch (unused here)\n",
    "        num_classification_labels: Number of non-group based classification labels (default: 2)\n",
    "\n",
    "    Returns:\n",
    "        Scalar tensor representing the combined loss\n",
    "    \"\"\"\n",
    "    logits = outputs.logits if hasattr(outputs, \"logits\") else outputs[\"logits\"]\n",
    "\n",
    "    log_loss = F.binary_cross_entropy_with_logits(logits[:, :1], labels[:, :1])\n",
    "\n",
    "    # Regression loss (MSE) for remaining outputs\n",
    "    if logits.shape[1] > 1:\n",
    "        mse_loss = F.mse_loss(logits[:, 1:], labels[:, 1:])\n",
    "        loss = log_loss + mse_loss\n",
    "    else:\n",
    "        loss = log_loss\n",
    "\n",
    "    return loss\n",
    "\n",
    "\n",
    "combined = get_full_data().sample(fraction=0.2)\n",
    "\n",
    "# 5. Prepare data collator\n",
    "data_collator = DataCollatorWithPadding(tokenizer=tokenizer)\n",
    "# 6. Metrics function\n",
    "# 7. Initialize model\n",
    "\n",
    "\n",
    "K = 10\n",
    "gss = GroupShuffleSplit(n_splits=K, train_size=0.8, random_state=110)\n",
    "all_features = combined.drop(\"target\", \"tid\", \"uid\", \"age\", \"ethnicity\")\n",
    "all_labels = combined[\"target\"]\n",
    "all_users = combined[\"uid\"]\n",
    "\n",
    "test_metrics = []\n",
    "all_metrics: list[pd.DataFrame] = []\n",
    "for iteration, (train_index, test_index) in enumerate(\n",
    "    gss.split(all_features, all_labels, groups=all_users)\n",
    "):\n",
    "    train_features = all_features[train_index]\n",
    "    train_labels = all_labels[train_index]\n",
    "    train_groups = all_users[train_index]\n",
    "    test_features = all_features[test_index]\n",
    "    test_labels = all_labels[test_index]\n",
    "\n",
    "    inner_gss = GroupShuffleSplit(n_splits=2, train_size=0.8, random_state=110)\n",
    "    # nested cross-validation\n",
    "    # Run oxonfair on an outer\n",
    "    # Min recall as a key metric for each test partition\n",
    "    # Key question: how big do we need to make the delta min recall to matter on the text\n",
    "    fair_ensemble = []\n",
    "    metrics = []\n",
    "    inner_gss = GroupShuffleSplit(n_splits=3, train_size=0.8, random_state=110)\n",
    "    for i, (inner_train_index, validation_index) in enumerate(\n",
    "        inner_gss.split(train_features, train_labels, groups=train_groups)\n",
    "    ):\n",
    "        inner_train_features = train_features[inner_train_index]\n",
    "        inner_train_labels = train_labels[inner_train_index]\n",
    "        inner_train_groups = train_groups[inner_train_index]\n",
    "        inner_validation_features = train_features[validation_index]\n",
    "        inner_validation_labels = train_labels[validation_index]\n",
    "        inner_validation_groups = train_groups[validation_index]\n",
    "        assert inner_validation_groups.shape[0] == validation_index.shape[0]\n",
    "        model = AutoModelForSequenceClassification.from_pretrained(\n",
    "            model_path,\n",
    "            num_labels=2,\n",
    "            problem_type=\"multi_label_classification\",\n",
    "        )\n",
    "\n",
    "        train_dataset = create_dataset(\n",
    "            inner_train_features,\n",
    "            inner_train_labels,\n",
    "        ).map(preprocess_simple)\n",
    "\n",
    "        validation_dataset = create_dataset(\n",
    "            inner_validation_features,\n",
    "            inner_validation_labels,\n",
    "        ).map(preprocess_simple)\n",
    "        trainer = Trainer(\n",
    "            model=model,\n",
    "            args=training_args,\n",
    "            train_dataset=train_dataset,\n",
    "            eval_dataset=validation_dataset,\n",
    "            tokenizer=tokenizer,\n",
    "            data_collator=data_collator,\n",
    "            compute_loss_func=compute_loss_func,\n",
    "            compute_metrics=compute_metrics,\n",
    "        )\n",
    "        trainer.train()\n",
    "        # Run oxonfair here? to merge heads etc.\n",
    "        val_output = trainer.predict(validation_dataset)\n",
    "        fpred = oxonfair.DeepFairPredictor(\n",
    "            inner_validation_labels.to_numpy(),\n",
    "            val_output.predictions,\n",
    "            groups=np.array(validation_dataset[\"gender\"]),\n",
    "        )\n",
    "        fpred.fit(gm.accuracy, gm.equal_opportunity, 0.02, grid_width=75)\n",
    "        fair_network = copy.deepcopy(trainer)\n",
    "        fair_network.model.classifier = fpred.merge_heads_pytorch(\n",
    "            fair_network.model.classifier\n",
    "        )\n",
    "        performance = fpred.evaluate().assign(classifier=i, metric_type=\"performance\")\n",
    "        fairness = fpred.evaluate_fairness(\n",
    "            metrics=gm.default_fairness_measures | {\"min_recall\": gm.recall.min}\n",
    "        ).assign(classifier=i, metric_type=\"fairness\")\n",
    "        metrics.append(pd.concat([performance, fairness]))\n",
    "        fair_ensemble.append(fair_network)\n",
    "    all_metrics.append(pd.concat(metrics).assign(iteration=iteration))\n",
    "    logger.info(\"Done training ensemble! Evaluating on test set\")\n",
    "    test_dataset = create_dataset(\n",
    "        test_features,\n",
    "        test_labels,\n",
    "    ).map(preprocess_simple)\n",
    "    logger.debug(\"Evaluating ensemble...\")\n",
    "    ensemble_preds = ensemble_predict(\n",
    "        texts=test_dataset[\"text\"], ensemble=fair_ensemble\n",
    "    )\n",
    "    ensemble_metrics = calculate_metrics(\n",
    "        test_groups=test_features[\"gender\"],\n",
    "        test_labels=test_labels,\n",
    "        predictions=ensemble_preds,\n",
    "    )\n",
    "    logger.debug(\"Evaluating first member...\")\n",
    "    single_preds = ensemble_predict(\n",
    "        texts=test_dataset[\"text\"], ensemble=fair_ensemble[:1]\n",
    "    )\n",
    "    single_metrics = calculate_metrics(\n",
    "        test_groups=test_features[\"gender\"],\n",
    "        test_labels=test_labels,\n",
    "        predictions=single_preds,\n",
    "    )\n",
    "    single_df = pd.DataFrame([single_metrics]).assign(model_type=\"single\")\n",
    "    test_metric_df = pd.concat(\n",
    "        [single_df, pd.DataFrame([ensemble_metrics]).assign(model_type=\"ensemble\")]\n",
    "    ).assign(iteration=iteration)\n",
    "    test_metrics.append(test_metric_df)"
   ]
  },
  {
   "cell_type": "code",
   "execution_count": 32,
   "metadata": {},
   "outputs": [],
   "source": [
    "pd.concat(test_metrics).to_csv(\"../hatespeech-data/test_metrics.csv\", index=False)\n",
    "pd.concat(all_metrics).to_csv(\"../hatespeech-data/validation_metrics.csv\", index=False)"
   ]
  },
  {
   "cell_type": "code",
   "execution_count": 41,
   "metadata": {},
   "outputs": [
    {
     "data": {
      "text/plain": [
       "<oxonfair.learners.fair.FairPredictor at 0x7acaf9f97c20>"
      ]
     },
     "execution_count": 41,
     "metadata": {},
     "output_type": "execute_result"
    }
   ],
   "source": [
    "all_test_metrics = pd.concat(test_metrics)\n",
    "all_test_metrics\n",
    "\n",
    "\n",
    "fpred.fit(gm.accuracy, gm.recall.min, 0.75, grid_width=75)"
   ]
  },
  {
   "cell_type": "code",
   "execution_count": null,
   "metadata": {},
   "outputs": [],
   "source": []
  },
  {
   "cell_type": "code",
   "execution_count": 42,
   "metadata": {},
   "outputs": [
    {
     "data": {
      "image/png": "[encoded data removed]",
      "text/plain": [
       "<Figure size 640x480 with 1 Axes>"
      ]
     },
     "metadata": {},
     "output_type": "display_data"
    }
   ],
   "source": [
    "fpred.plot_frontier()"
   ]
  },
  {
   "cell_type": "code",
   "execution_count": 9,
   "metadata": {},
   "outputs": [],
   "source": [
    "import os\n",
    "from pathlib import Path\n",
    "\n",
    "import polars as pl\n",
    "\n",
    "DATA_DIR = Path(\"../hatespeech-data\")\n",
    "latest_test_metrics_path = list(DATA_DIR.glob(\"test_metrics*.csv\"))\n",
    "latest_test_metrics_path.sort(key=os.path.getctime)\n",
    "\n",
    "test_metrics_latest = pl.read_csv(latest_test_metrics_path[1])"
   ]
  },
  {
   "cell_type": "code",
   "execution_count": 10,
   "metadata": {},
   "outputs": [
    {
     "data": {
      "text/html": [
       "<div><style>\n",
       ".dataframe > thead > tr,\n",
       ".dataframe > tbody > tr {\n",
       "  text-align: right;\n",
       "  white-space: pre-wrap;\n",
       "}\n",
       "</style>\n",
       "<small>shape: (40, 7)</small><table border=\"1\" class=\"dataframe\"><thead><tr><th>min_recall</th><th>equal_opportunity</th><th>accuracy</th><th>precision</th><th>recall</th><th>model_type</th><th>iteration</th></tr><tr><td>f64</td><td>f64</td><td>f64</td><td>f64</td><td>f64</td><td>str</td><td>i64</td></tr></thead><tbody><tr><td>0.446043</td><td>0.072164</td><td>0.720077</td><td>0.739234</td><td>0.486614</td><td>&quot;single&quot;</td><td>0</td></tr><tr><td>0.535971</td><td>0.057866</td><td>0.768983</td><td>0.809417</td><td>0.568504</td><td>&quot;ensemble&quot;</td><td>0</td></tr><tr><td>0.72619</td><td>0.028411</td><td>0.819843</td><td>0.771583</td><td>0.742215</td><td>&quot;single&quot;</td><td>1</td></tr><tr><td>0.611111</td><td>0.029993</td><td>0.81201</td><td>0.832569</td><td>0.628028</td><td>&quot;ensemble&quot;</td><td>1</td></tr><tr><td>0.313576</td><td>0.181305</td><td>0.675676</td><td>0.844262</td><td>0.378676</td><td>&quot;single&quot;</td><td>2</td></tr><tr><td>&hellip;</td><td>&hellip;</td><td>&hellip;</td><td>&hellip;</td><td>&hellip;</td><td>&hellip;</td><td>&hellip;</td></tr><tr><td>0.580153</td><td>0.072844</td><td>0.821128</td><td>0.86506</td><td>0.620035</td><td>&quot;ensemble&quot;</td><td>17</td></tr><tr><td>0.592593</td><td>0.01834</td><td>0.733032</td><td>0.657895</td><td>0.60241</td><td>&quot;single&quot;</td><td>18</td></tr><tr><td>0.503704</td><td>0.065428</td><td>0.811248</td><td>0.928783</td><td>0.538726</td><td>&quot;ensemble&quot;</td><td>18</td></tr><tr><td>0.339844</td><td>0.105871</td><td>0.753298</td><td>0.956693</td><td>0.40099</td><td>&quot;single&quot;</td><td>19</td></tr><tr><td>0.515625</td><td>0.101518</td><td>0.810686</td><td>0.923077</td><td>0.574257</td><td>&quot;ensemble&quot;</td><td>19</td></tr></tbody></table></div>"
      ],
      "text/plain": [
       "shape: (40, 7)\n",
       "┌────────────┬───────────────────┬──────────┬───────────┬──────────┬────────────┬───────────┐\n",
       "│ min_recall ┆ equal_opportunity ┆ accuracy ┆ precision ┆ recall   ┆ model_type ┆ iteration │\n",
       "│ ---        ┆ ---               ┆ ---      ┆ ---       ┆ ---      ┆ ---        ┆ ---       │\n",
       "│ f64        ┆ f64               ┆ f64      ┆ f64       ┆ f64      ┆ str        ┆ i64       │\n",
       "╞════════════╪═══════════════════╪══════════╪═══════════╪══════════╪════════════╪═══════════╡\n",
       "│ 0.446043   ┆ 0.072164          ┆ 0.720077 ┆ 0.739234  ┆ 0.486614 ┆ single     ┆ 0         │\n",
       "│ 0.535971   ┆ 0.057866          ┆ 0.768983 ┆ 0.809417  ┆ 0.568504 ┆ ensemble   ┆ 0         │\n",
       "│ 0.72619    ┆ 0.028411          ┆ 0.819843 ┆ 0.771583  ┆ 0.742215 ┆ single     ┆ 1         │\n",
       "│ 0.611111   ┆ 0.029993          ┆ 0.81201  ┆ 0.832569  ┆ 0.628028 ┆ ensemble   ┆ 1         │\n",
       "│ 0.313576   ┆ 0.181305          ┆ 0.675676 ┆ 0.844262  ┆ 0.378676 ┆ single     ┆ 2         │\n",
       "│ …          ┆ …                 ┆ …        ┆ …         ┆ …        ┆ …          ┆ …         │\n",
       "│ 0.580153   ┆ 0.072844          ┆ 0.821128 ┆ 0.86506   ┆ 0.620035 ┆ ensemble   ┆ 17        │\n",
       "│ 0.592593   ┆ 0.01834           ┆ 0.733032 ┆ 0.657895  ┆ 0.60241  ┆ single     ┆ 18        │\n",
       "│ 0.503704   ┆ 0.065428          ┆ 0.811248 ┆ 0.928783  ┆ 0.538726 ┆ ensemble   ┆ 18        │\n",
       "│ 0.339844   ┆ 0.105871          ┆ 0.753298 ┆ 0.956693  ┆ 0.40099  ┆ single     ┆ 19        │\n",
       "│ 0.515625   ┆ 0.101518          ┆ 0.810686 ┆ 0.923077  ┆ 0.574257 ┆ ensemble   ┆ 19        │\n",
       "└────────────┴───────────────────┴──────────┴───────────┴──────────┴────────────┴───────────┘"
      ]
     },
     "execution_count": 10,
     "metadata": {},
     "output_type": "execute_result"
    }
   ],
   "source": [
    "test_metrics_latest"
   ]
  },
  {
   "cell_type": "code",
   "execution_count": 19,
   "metadata": {},
   "outputs": [
    {
     "data": {
      "text/plain": [
       "0.45"
      ]
     },
     "execution_count": 19,
     "metadata": {},
     "output_type": "execute_result"
    }
   ],
   "source": [
    "pivoted_metrics = test_metrics_latest.select(\n",
    "    \"iteration\", \"model_type\", \"min_recall\"\n",
    ").pivot(on=\"model_type\", index=\"iteration\")\n",
    "pivoted_metrics.with_columns(\n",
    "    (pl.col(\"single\") < pl.col(\"ensemble\")).alias(\"hypothesis_true\")\n",
    ")[\"hypothesis_true\"].mean()"
   ]
  },
  {
   "cell_type": "code",
   "execution_count": 20,
   "metadata": {},
   "outputs": [
    {
     "data": {
      "text/plain": [
       "['min_recall',\n",
       " 'equal_opportunity',\n",
       " 'accuracy',\n",
       " 'precision',\n",
       " 'recall',\n",
       " 'model_type',\n",
       " 'iteration']"
      ]
     },
     "execution_count": 20,
     "metadata": {},
     "output_type": "execute_result"
    }
   ],
   "source": [
    "test_metrics_latest.columns"
   ]
  },
  {
   "cell_type": "code",
   "execution_count": 23,
   "metadata": {},
   "outputs": [
    {
     "data": {
      "text/html": [
       "<div><style>\n",
       ".dataframe > thead > tr,\n",
       ".dataframe > tbody > tr {\n",
       "  text-align: right;\n",
       "  white-space: pre-wrap;\n",
       "}\n",
       "</style>\n",
       "<small>shape: (40, 7)</small><table border=\"1\" class=\"dataframe\"><thead><tr><th>min_recall</th><th>equal_opportunity</th><th>accuracy</th><th>precision</th><th>recall</th><th>model_type</th><th>iteration</th></tr><tr><td>f64</td><td>f64</td><td>f64</td><td>f64</td><td>f64</td><td>str</td><td>i64</td></tr></thead><tbody><tr><td>0.446043</td><td>0.072164</td><td>0.720077</td><td>0.739234</td><td>0.486614</td><td>&quot;single&quot;</td><td>0</td></tr><tr><td>0.535971</td><td>0.057866</td><td>0.768983</td><td>0.809417</td><td>0.568504</td><td>&quot;ensemble&quot;</td><td>0</td></tr><tr><td>0.72619</td><td>0.028411</td><td>0.819843</td><td>0.771583</td><td>0.742215</td><td>&quot;single&quot;</td><td>1</td></tr><tr><td>0.611111</td><td>0.029993</td><td>0.81201</td><td>0.832569</td><td>0.628028</td><td>&quot;ensemble&quot;</td><td>1</td></tr><tr><td>0.313576</td><td>0.181305</td><td>0.675676</td><td>0.844262</td><td>0.378676</td><td>&quot;single&quot;</td><td>2</td></tr><tr><td>&hellip;</td><td>&hellip;</td><td>&hellip;</td><td>&hellip;</td><td>&hellip;</td><td>&hellip;</td><td>&hellip;</td></tr><tr><td>0.580153</td><td>0.072844</td><td>0.821128</td><td>0.86506</td><td>0.620035</td><td>&quot;ensemble&quot;</td><td>17</td></tr><tr><td>0.592593</td><td>0.01834</td><td>0.733032</td><td>0.657895</td><td>0.60241</td><td>&quot;single&quot;</td><td>18</td></tr><tr><td>0.503704</td><td>0.065428</td><td>0.811248</td><td>0.928783</td><td>0.538726</td><td>&quot;ensemble&quot;</td><td>18</td></tr><tr><td>0.339844</td><td>0.105871</td><td>0.753298</td><td>0.956693</td><td>0.40099</td><td>&quot;single&quot;</td><td>19</td></tr><tr><td>0.515625</td><td>0.101518</td><td>0.810686</td><td>0.923077</td><td>0.574257</td><td>&quot;ensemble&quot;</td><td>19</td></tr></tbody></table></div>"
      ],
      "text/plain": [
       "shape: (40, 7)\n",
       "┌────────────┬───────────────────┬──────────┬───────────┬──────────┬────────────┬───────────┐\n",
       "│ min_recall ┆ equal_opportunity ┆ accuracy ┆ precision ┆ recall   ┆ model_type ┆ iteration │\n",
       "│ ---        ┆ ---               ┆ ---      ┆ ---       ┆ ---      ┆ ---        ┆ ---       │\n",
       "│ f64        ┆ f64               ┆ f64      ┆ f64       ┆ f64      ┆ str        ┆ i64       │\n",
       "╞════════════╪═══════════════════╪══════════╪═══════════╪══════════╪════════════╪═══════════╡\n",
       "│ 0.446043   ┆ 0.072164          ┆ 0.720077 ┆ 0.739234  ┆ 0.486614 ┆ single     ┆ 0         │\n",
       "│ 0.535971   ┆ 0.057866          ┆ 0.768983 ┆ 0.809417  ┆ 0.568504 ┆ ensemble   ┆ 0         │\n",
       "│ 0.72619    ┆ 0.028411          ┆ 0.819843 ┆ 0.771583  ┆ 0.742215 ┆ single     ┆ 1         │\n",
       "│ 0.611111   ┆ 0.029993          ┆ 0.81201  ┆ 0.832569  ┆ 0.628028 ┆ ensemble   ┆ 1         │\n",
       "│ 0.313576   ┆ 0.181305          ┆ 0.675676 ┆ 0.844262  ┆ 0.378676 ┆ single     ┆ 2         │\n",
       "│ …          ┆ …                 ┆ …        ┆ …         ┆ …        ┆ …          ┆ …         │\n",
       "│ 0.580153   ┆ 0.072844          ┆ 0.821128 ┆ 0.86506   ┆ 0.620035 ┆ ensemble   ┆ 17        │\n",
       "│ 0.592593   ┆ 0.01834           ┆ 0.733032 ┆ 0.657895  ┆ 0.60241  ┆ single     ┆ 18        │\n",
       "│ 0.503704   ┆ 0.065428          ┆ 0.811248 ┆ 0.928783  ┆ 0.538726 ┆ ensemble   ┆ 18        │\n",
       "│ 0.339844   ┆ 0.105871          ┆ 0.753298 ┆ 0.956693  ┆ 0.40099  ┆ single     ┆ 19        │\n",
       "│ 0.515625   ┆ 0.101518          ┆ 0.810686 ┆ 0.923077  ┆ 0.574257 ┆ ensemble   ┆ 19        │\n",
       "└────────────┴───────────────────┴──────────┴───────────┴──────────┴────────────┴───────────┘"
      ]
     },
     "execution_count": 23,
     "metadata": {},
     "output_type": "execute_result"
    }
   ],
   "source": [
    "test_metrics_latest"
   ]
  },
  {
   "cell_type": "code",
   "execution_count": null,
   "metadata": {},
   "outputs": [
    {
     "data": {
      "text/plain": [
       "<Axes: xlabel='metric', ylabel='value'>"
      ]
     },
     "execution_count": 26,
     "metadata": {},
     "output_type": "execute_result"
    },
    {
     "data": {
      "image/png": "[encoded data removed]",
      "text/plain": [
       "<Figure size 640x480 with 1 Axes>"
      ]
     },
     "metadata": {},
     "output_type": "display_data"
    }
   ],
   "source": [
    "import matplotlib.pyplot as plt\n",
    "import seaborn as sns\n",
    "\n",
    "test_metrics_latest_long = test_metrics_latest.unpivot(\n",
    "    index=[\"model_type\", \"iteration\"], variable_name=\"metric\"\n",
    ")\n",
    "sns.barplot(test_metrics_latest_long, x=\"metric\", y=\"value\", hue=\"model_type\")\n",
    "\n",
    "plt.xticks()"
   ]
  },
  {
   "cell_type": "code",
   "execution_count": 19,
   "metadata": {},
   "outputs": [
    {
     "name": "stderr",
     "output_type": "stream",
     "text": [
      "Device set to use cuda:0\n",
      "Device set to use cuda:0\n",
      "Device set to use cuda:0\n"
     ]
    }
   ],
   "source": [
    "ensemble_preds = ensemble_predict(texts=test_dataset[\"text\"], ensemble=fair_ensemble)"
   ]
  },
  {
   "cell_type": "code",
   "execution_count": 61,
   "metadata": {},
   "outputs": [
    {
     "name": "stderr",
     "output_type": "stream",
     "text": [
      "Device set to use cuda:0\n"
     ]
    }
   ],
   "source": [
    "single_preds = ensemble_predict(texts=test_dataset[\"text\"], ensemble=fair_ensemble[:1])"
   ]
  },
  {
   "cell_type": "code",
   "execution_count": null,
   "metadata": {},
   "outputs": [
    {
     "name": "stdout",
     "output_type": "stream",
     "text": [
      "min_recall=np.float64(0.6547945205479452)\n",
      "equal_opportunity=np.float64(0.027376022087713725)\n"
     ]
    }
   ],
   "source": []
  },
  {
   "cell_type": "code",
   "execution_count": 38,
   "metadata": {},
   "outputs": [
    {
     "data": {
      "text/plain": [
       "polars.dataframe.frame.DataFrame"
      ]
     },
     "execution_count": 38,
     "metadata": {},
     "output_type": "execute_result"
    }
   ],
   "source": [
    "type(test_features)"
   ]
  },
  {
   "cell_type": "code",
   "execution_count": null,
   "metadata": {},
   "outputs": [
    {
     "data": {
      "image/png": "[encoded data removed]",
      "text/plain": [
       "<Figure size 640x480 with 1 Axes>"
      ]
     },
     "metadata": {},
     "output_type": "display_data"
    }
   ],
   "source": [
    "import matplotlib.pyplot as plt\n",
    "import polars as pl\n",
    "import seaborn as sns\n",
    "\n",
    "DATASET = \"compas\"\n",
    "ITERATIONS = 3\n",
    "threshold_metrics = pl.read_csv(\n",
    "    f\"../ensemble_results/threshold_metrics_{DATASET}-n3-i{ITERATIONS}.csv\"\n",
    ").with_columns(pl.lit(\"ensemble\").alias(\"model_type\"))\n",
    "threshold_metrics_single = pl.read_csv(\n",
    "    f\"../ensemble_results/single_threshold_metrics_{DATASET}-i{ITERATIONS}.csv\"\n",
    ").with_columns(pl.lit(\"single\").alias(\"model_type\"))\n",
    "\n",
    "\n",
    "all_metrics = pl.concat([threshold_metrics, threshold_metrics_single])\n",
    "\n",
    "sns.scatterplot(all_metrics, x=\"min_recall\", y=\"accuracy\", hue=\"model_type\", alpha=0.5)\n",
    "plt.savefig(f\"../plots/{DATASET}-i{ITERATIONS}-threshold_metrics.png\")"
   ]
  },
  {
   "cell_type": "code",
   "execution_count": 118,
   "metadata": {},
   "outputs": [
    {
     "data": {
      "text/html": [
       "<div><style>\n",
       ".dataframe > thead > tr,\n",
       ".dataframe > tbody > tr {\n",
       "  text-align: right;\n",
       "  white-space: pre-wrap;\n",
       "}\n",
       "</style>\n",
       "<small>shape: (600, 15)</small><table border=\"1\" class=\"dataframe\"><thead><tr><th>min_recall</th><th>equal_opportunity</th><th>accuracy</th><th>precision</th><th>recall</th><th>demographic_parity</th><th>recall_group_African-American</th><th>recall_group_Asian</th><th>recall_group_Caucasian</th><th>recall_group_Hispanic</th><th>recall_group_Native American</th><th>recall_group_Other</th><th>threshold</th><th>iteration</th><th>model_type</th></tr><tr><td>f64</td><td>f64</td><td>f64</td><td>f64</td><td>f64</td><td>f64</td><td>f64</td><td>f64</td><td>f64</td><td>f64</td><td>f64</td><td>f64</td><td>f64</td><td>i64</td><td>str</td></tr></thead><tbody><tr><td>1.0</td><td>0.0</td><td>0.450139</td><td>0.450139</td><td>1.0</td><td>0.0</td><td>1.0</td><td>1.0</td><td>1.0</td><td>1.0</td><td>1.0</td><td>1.0</td><td>0.0</td><td>0</td><td>&quot;ensemble&quot;</td></tr><tr><td>1.0</td><td>0.0</td><td>0.450139</td><td>0.450139</td><td>1.0</td><td>0.0</td><td>1.0</td><td>1.0</td><td>1.0</td><td>1.0</td><td>1.0</td><td>1.0</td><td>0.010101</td><td>0</td><td>&quot;ensemble&quot;</td></tr><tr><td>1.0</td><td>0.0</td><td>0.450139</td><td>0.450139</td><td>1.0</td><td>0.0</td><td>1.0</td><td>1.0</td><td>1.0</td><td>1.0</td><td>1.0</td><td>1.0</td><td>0.020202</td><td>0</td><td>&quot;ensemble&quot;</td></tr><tr><td>1.0</td><td>0.0</td><td>0.450139</td><td>0.450139</td><td>1.0</td><td>0.0</td><td>1.0</td><td>1.0</td><td>1.0</td><td>1.0</td><td>1.0</td><td>1.0</td><td>0.030303</td><td>0</td><td>&quot;ensemble&quot;</td></tr><tr><td>1.0</td><td>0.0</td><td>0.450139</td><td>0.450139</td><td>1.0</td><td>0.0</td><td>1.0</td><td>1.0</td><td>1.0</td><td>1.0</td><td>1.0</td><td>1.0</td><td>0.040404</td><td>0</td><td>&quot;ensemble&quot;</td></tr><tr><td>&hellip;</td><td>&hellip;</td><td>&hellip;</td><td>&hellip;</td><td>&hellip;</td><td>&hellip;</td><td>&hellip;</td><td>&hellip;</td><td>&hellip;</td><td>&hellip;</td><td>&hellip;</td><td>&hellip;</td><td>&hellip;</td><td>&hellip;</td><td>&hellip;</td></tr><tr><td>0.0</td><td>1.0</td><td>0.652355</td><td>0.70442</td><td>0.392308</td><td>0.343708</td><td>0.484211</td><td>1.0</td><td>0.26943</td><td>0.217391</td><td>0.0</td><td>0.259259</td><td>0.959596</td><td>2</td><td>&quot;single&quot;</td></tr><tr><td>0.0</td><td>1.0</td><td>0.654432</td><td>0.718841</td><td>0.381538</td><td>0.332882</td><td>0.478947</td><td>1.0</td><td>0.253886</td><td>0.195652</td><td>0.0</td><td>0.222222</td><td>0.969697</td><td>2</td><td>&quot;single&quot;</td></tr><tr><td>0.0</td><td>1.0</td><td>0.655125</td><td>0.723529</td><td>0.378462</td><td>0.328823</td><td>0.476316</td><td>1.0</td><td>0.248705</td><td>0.195652</td><td>0.0</td><td>0.222222</td><td>0.979798</td><td>2</td><td>&quot;single&quot;</td></tr><tr><td>0.0</td><td>1.0</td><td>0.653047</td><td>0.723724</td><td>0.370769</td><td>0.32341</td><td>0.468421</td><td>1.0</td><td>0.243523</td><td>0.173913</td><td>0.0</td><td>0.222222</td><td>0.989899</td><td>2</td><td>&quot;single&quot;</td></tr><tr><td>0.0</td><td>1.0</td><td>0.65097</td><td>0.722561</td><td>0.364615</td><td>0.320704</td><td>0.463158</td><td>1.0</td><td>0.238342</td><td>0.173913</td><td>0.0</td><td>0.185185</td><td>1.0</td><td>2</td><td>&quot;single&quot;</td></tr></tbody></table></div>"
      ],
      "text/plain": [
       "shape: (600, 15)\n",
       "┌───────────┬───────────┬──────────┬───────────┬───┬───────────┬───────────┬───────────┬───────────┐\n",
       "│ min_recal ┆ equal_opp ┆ accuracy ┆ precision ┆ … ┆ recall_gr ┆ threshold ┆ iteration ┆ model_typ │\n",
       "│ l         ┆ ortunity  ┆ ---      ┆ ---       ┆   ┆ oup_Other ┆ ---       ┆ ---       ┆ e         │\n",
       "│ ---       ┆ ---       ┆ f64      ┆ f64       ┆   ┆ ---       ┆ f64       ┆ i64       ┆ ---       │\n",
       "│ f64       ┆ f64       ┆          ┆           ┆   ┆ f64       ┆           ┆           ┆ str       │\n",
       "╞═══════════╪═══════════╪══════════╪═══════════╪═══╪═══════════╪═══════════╪═══════════╪═══════════╡\n",
       "│ 1.0       ┆ 0.0       ┆ 0.450139 ┆ 0.450139  ┆ … ┆ 1.0       ┆ 0.0       ┆ 0         ┆ ensemble  │\n",
       "│ 1.0       ┆ 0.0       ┆ 0.450139 ┆ 0.450139  ┆ … ┆ 1.0       ┆ 0.010101  ┆ 0         ┆ ensemble  │\n",
       "│ 1.0       ┆ 0.0       ┆ 0.450139 ┆ 0.450139  ┆ … ┆ 1.0       ┆ 0.020202  ┆ 0         ┆ ensemble  │\n",
       "│ 1.0       ┆ 0.0       ┆ 0.450139 ┆ 0.450139  ┆ … ┆ 1.0       ┆ 0.030303  ┆ 0         ┆ ensemble  │\n",
       "│ 1.0       ┆ 0.0       ┆ 0.450139 ┆ 0.450139  ┆ … ┆ 1.0       ┆ 0.040404  ┆ 0         ┆ ensemble  │\n",
       "│ …         ┆ …         ┆ …        ┆ …         ┆ … ┆ …         ┆ …         ┆ …         ┆ …         │\n",
       "│ 0.0       ┆ 1.0       ┆ 0.652355 ┆ 0.70442   ┆ … ┆ 0.259259  ┆ 0.959596  ┆ 2         ┆ single    │\n",
       "│ 0.0       ┆ 1.0       ┆ 0.654432 ┆ 0.718841  ┆ … ┆ 0.222222  ┆ 0.969697  ┆ 2         ┆ single    │\n",
       "│ 0.0       ┆ 1.0       ┆ 0.655125 ┆ 0.723529  ┆ … ┆ 0.222222  ┆ 0.979798  ┆ 2         ┆ single    │\n",
       "│ 0.0       ┆ 1.0       ┆ 0.653047 ┆ 0.723724  ┆ … ┆ 0.222222  ┆ 0.989899  ┆ 2         ┆ single    │\n",
       "│ 0.0       ┆ 1.0       ┆ 0.65097  ┆ 0.722561  ┆ … ┆ 0.185185  ┆ 1.0       ┆ 2         ┆ single    │\n",
       "└───────────┴───────────┴──────────┴───────────┴───┴───────────┴───────────┴───────────┴───────────┘"
      ]
     },
     "execution_count": 118,
     "metadata": {},
     "output_type": "execute_result"
    }
   ],
   "source": [
    "all_metrics"
   ]
  },
  {
   "cell_type": "code",
   "execution_count": 111,
   "metadata": {},
   "outputs": [
    {
     "data": {
      "text/html": [
       "<div><style>\n",
       ".dataframe > thead > tr,\n",
       ".dataframe > tbody > tr {\n",
       "  text-align: right;\n",
       "  white-space: pre-wrap;\n",
       "}\n",
       "</style>\n",
       "<small>shape: (200, 3)</small><table border=\"1\" class=\"dataframe\"><thead><tr><th>min_recall</th><th>model_type</th><th>threshold</th></tr><tr><td>f64</td><td>str</td><td>f64</td></tr></thead><tbody><tr><td>1.0</td><td>&quot;ensemble&quot;</td><td>0.0</td></tr><tr><td>1.0</td><td>&quot;ensemble&quot;</td><td>0.010101</td></tr><tr><td>1.0</td><td>&quot;ensemble&quot;</td><td>0.020202</td></tr><tr><td>1.0</td><td>&quot;ensemble&quot;</td><td>0.030303</td></tr><tr><td>1.0</td><td>&quot;ensemble&quot;</td><td>0.040404</td></tr><tr><td>&hellip;</td><td>&hellip;</td><td>&hellip;</td></tr><tr><td>0.545455</td><td>&quot;single&quot;</td><td>0.959596</td></tr><tr><td>0.545455</td><td>&quot;single&quot;</td><td>0.969697</td></tr><tr><td>0.545455</td><td>&quot;single&quot;</td><td>0.979798</td></tr><tr><td>0.545455</td><td>&quot;single&quot;</td><td>0.989899</td></tr><tr><td>0.545455</td><td>&quot;single&quot;</td><td>1.0</td></tr></tbody></table></div>"
      ],
      "text/plain": [
       "shape: (200, 3)\n",
       "┌────────────┬────────────┬───────────┐\n",
       "│ min_recall ┆ model_type ┆ threshold │\n",
       "│ ---        ┆ ---        ┆ ---       │\n",
       "│ f64        ┆ str        ┆ f64       │\n",
       "╞════════════╪════════════╪═══════════╡\n",
       "│ 1.0        ┆ ensemble   ┆ 0.0       │\n",
       "│ 1.0        ┆ ensemble   ┆ 0.010101  │\n",
       "│ 1.0        ┆ ensemble   ┆ 0.020202  │\n",
       "│ 1.0        ┆ ensemble   ┆ 0.030303  │\n",
       "│ 1.0        ┆ ensemble   ┆ 0.040404  │\n",
       "│ …          ┆ …          ┆ …         │\n",
       "│ 0.545455   ┆ single     ┆ 0.959596  │\n",
       "│ 0.545455   ┆ single     ┆ 0.969697  │\n",
       "│ 0.545455   ┆ single     ┆ 0.979798  │\n",
       "│ 0.545455   ┆ single     ┆ 0.989899  │\n",
       "│ 0.545455   ┆ single     ┆ 1.0       │\n",
       "└────────────┴────────────┴───────────┘"
      ]
     },
     "execution_count": 111,
     "metadata": {},
     "output_type": "execute_result"
    }
   ],
   "source": [
    "all_metrics.select(\"min_recall\", \"model_type\", \"threshold\")"
   ]
  },
  {
   "cell_type": "code",
   "execution_count": 82,
   "metadata": {},
   "outputs": [
    {
     "data": {
      "text/html": [
       "<div><style>\n",
       ".dataframe > thead > tr,\n",
       ".dataframe > tbody > tr {\n",
       "  text-align: right;\n",
       "  white-space: pre-wrap;\n",
       "}\n",
       "</style>\n",
       "<small>shape: (15, 3)</small><table border=\"1\" class=\"dataframe\"><thead><tr><th>iteration</th><th>group</th><th>ensemble_recall</th></tr><tr><td>i64</td><td>str</td><td>f64</td></tr></thead><tbody><tr><td>0</td><td>&quot; Amer-Indian-Eskimo&quot;</td><td>0.636364</td></tr><tr><td>1</td><td>&quot; Amer-Indian-Eskimo&quot;</td><td>0.636364</td></tr><tr><td>2</td><td>&quot; Amer-Indian-Eskimo&quot;</td><td>0.727273</td></tr><tr><td>0</td><td>&quot; Asian-Pac-Islander&quot;</td><td>0.914634</td></tr><tr><td>1</td><td>&quot; Asian-Pac-Islander&quot;</td><td>0.963415</td></tr><tr><td>&hellip;</td><td>&hellip;</td><td>&hellip;</td></tr><tr><td>1</td><td>&quot; Other&quot;</td><td>0.9</td></tr><tr><td>2</td><td>&quot; Other&quot;</td><td>0.9</td></tr><tr><td>0</td><td>&quot; White&quot;</td><td>0.939651</td></tr><tr><td>1</td><td>&quot; White&quot;</td><td>0.960868</td></tr><tr><td>2</td><td>&quot; White&quot;</td><td>0.926921</td></tr></tbody></table></div>"
      ],
      "text/plain": [
       "shape: (15, 3)\n",
       "┌───────────┬─────────────────────┬─────────────────┐\n",
       "│ iteration ┆ group               ┆ ensemble_recall │\n",
       "│ ---       ┆ ---                 ┆ ---             │\n",
       "│ i64       ┆ str                 ┆ f64             │\n",
       "╞═══════════╪═════════════════════╪═════════════════╡\n",
       "│ 0         ┆  Amer-Indian-Eskimo ┆ 0.636364        │\n",
       "│ 1         ┆  Amer-Indian-Eskimo ┆ 0.636364        │\n",
       "│ 2         ┆  Amer-Indian-Eskimo ┆ 0.727273        │\n",
       "│ 0         ┆  Asian-Pac-Islander ┆ 0.914634        │\n",
       "│ 1         ┆  Asian-Pac-Islander ┆ 0.963415        │\n",
       "│ …         ┆ …                   ┆ …               │\n",
       "│ 1         ┆  Other              ┆ 0.9             │\n",
       "│ 2         ┆  Other              ┆ 0.9             │\n",
       "│ 0         ┆  White              ┆ 0.939651        │\n",
       "│ 1         ┆  White              ┆ 0.960868        │\n",
       "│ 2         ┆  White              ┆ 0.926921        │\n",
       "└───────────┴─────────────────────┴─────────────────┘"
      ]
     },
     "execution_count": 82,
     "metadata": {},
     "output_type": "execute_result"
    }
   ],
   "source": [
    "metrics = pl.read_csv(\"../ensemble_results/ensemble_results-n3-i3.csv\")\n",
    "ensemble_recall = metrics.unpivot(\n",
    "    on=pl.selectors.starts_with(\"recall_group_\"),\n",
    "    index=[\"iteration\"],\n",
    "    value_name=\"ensemble_recall\",\n",
    "    variable_name=\"group\",\n",
    ").with_columns(pl.col(\"group\").str.strip_prefix(\"recall_group_\"))\n",
    "\n",
    "ensemble_der = metrics.unpivot(\n",
    "    on=pl.selectors.starts_with(\"der_group_\"),\n",
    "    index=[\"iteration\"],\n",
    "    value_name=\"der\",\n",
    "    variable_name=\"group\",\n",
    ").with_columns(\n",
    "    pl.col(\"group\").str.strip_prefix(\"der_group_\"),\n",
    ")\n",
    "ensemble_recall"
   ]
  },
  {
   "cell_type": "code",
   "execution_count": 83,
   "metadata": {},
   "outputs": [
    {
     "data": {
      "text/html": [
       "<div><style>\n",
       ".dataframe > thead > tr,\n",
       ".dataframe > tbody > tr {\n",
       "  text-align: right;\n",
       "  white-space: pre-wrap;\n",
       "}\n",
       "</style>\n",
       "<small>shape: (45, 4)</small><table border=\"1\" class=\"dataframe\"><thead><tr><th>member</th><th>iteration</th><th>group</th><th>recall</th></tr><tr><td>i64</td><td>i64</td><td>str</td><td>f64</td></tr></thead><tbody><tr><td>0</td><td>2</td><td>&quot; Amer-Indian-Eskimo&quot;</td><td>0.818182</td></tr><tr><td>1</td><td>2</td><td>&quot; Amer-Indian-Eskimo&quot;</td><td>0.727273</td></tr><tr><td>2</td><td>2</td><td>&quot; Amer-Indian-Eskimo&quot;</td><td>0.727273</td></tr><tr><td>0</td><td>0</td><td>&quot; Amer-Indian-Eskimo&quot;</td><td>0.636364</td></tr><tr><td>1</td><td>0</td><td>&quot; Amer-Indian-Eskimo&quot;</td><td>0.454545</td></tr><tr><td>&hellip;</td><td>&hellip;</td><td>&hellip;</td><td>&hellip;</td></tr><tr><td>1</td><td>0</td><td>&quot; White&quot;</td><td>0.806223</td></tr><tr><td>2</td><td>0</td><td>&quot; White&quot;</td><td>0.991985</td></tr><tr><td>0</td><td>1</td><td>&quot; White&quot;</td><td>0.937765</td></tr><tr><td>1</td><td>1</td><td>&quot; White&quot;</td><td>0.959925</td></tr><tr><td>2</td><td>1</td><td>&quot; White&quot;</td><td>0.978312</td></tr></tbody></table></div>"
      ],
      "text/plain": [
       "shape: (45, 4)\n",
       "┌────────┬───────────┬─────────────────────┬──────────┐\n",
       "│ member ┆ iteration ┆ group               ┆ recall   │\n",
       "│ ---    ┆ ---       ┆ ---                 ┆ ---      │\n",
       "│ i64    ┆ i64       ┆ str                 ┆ f64      │\n",
       "╞════════╪═══════════╪═════════════════════╪══════════╡\n",
       "│ 0      ┆ 2         ┆  Amer-Indian-Eskimo ┆ 0.818182 │\n",
       "│ 1      ┆ 2         ┆  Amer-Indian-Eskimo ┆ 0.727273 │\n",
       "│ 2      ┆ 2         ┆  Amer-Indian-Eskimo ┆ 0.727273 │\n",
       "│ 0      ┆ 0         ┆  Amer-Indian-Eskimo ┆ 0.636364 │\n",
       "│ 1      ┆ 0         ┆  Amer-Indian-Eskimo ┆ 0.454545 │\n",
       "│ …      ┆ …         ┆ …                   ┆ …        │\n",
       "│ 1      ┆ 0         ┆  White              ┆ 0.806223 │\n",
       "│ 2      ┆ 0         ┆  White              ┆ 0.991985 │\n",
       "│ 0      ┆ 1         ┆  White              ┆ 0.937765 │\n",
       "│ 1      ┆ 1         ┆  White              ┆ 0.959925 │\n",
       "│ 2      ┆ 1         ┆  White              ┆ 0.978312 │\n",
       "└────────┴───────────┴─────────────────────┴──────────┘"
      ]
     },
     "execution_count": 83,
     "metadata": {},
     "output_type": "execute_result"
    }
   ],
   "source": [
    "from pathlib import Path\n",
    "\n",
    "individual_metrics = pl.concat(\n",
    "    [\n",
    "        pl.read_csv(f)\n",
    "        for f in Path(\"../ensemble_results\").glob(\"individual_metrics_original-i*.csv\")\n",
    "    ]\n",
    ")\n",
    "individual_recall = (\n",
    "    individual_metrics.filter(pl.col(\"dataset\") == \"test\")\n",
    "    .unpivot(\n",
    "        index=[\"member\", \"iteration\"],\n",
    "        on=pl.selectors.starts_with(\"recall_group_\"),\n",
    "        value_name=\"recall\",\n",
    "        variable_name=\"group\",\n",
    "    )\n",
    "    .with_columns(\n",
    "        pl.col(\"group\").str.strip_prefix(\"recall_group_\"),\n",
    "    )\n",
    ")\n",
    "individual_recall"
   ]
  },
  {
   "cell_type": "code",
   "execution_count": null,
   "metadata": {},
   "outputs": [
    {
     "data": {
      "image/png": "[encoded data removed]",
      "text/plain": [
       "<Figure size 597.597x500 with 1 Axes>"
      ]
     },
     "metadata": {},
     "output_type": "display_data"
    }
   ],
   "source": [
    "sns.set_theme(style=\"whitegrid\")\n",
    "joined_recall_der = (\n",
    "    individual_recall.join(ensemble_recall, on=[\"group\", \"iteration\"])\n",
    "    .join(ensemble_der, on=[\"group\", \"iteration\"])\n",
    "    .with_columns(\n",
    "        (pl.col(\"ensemble_recall\") - pl.col(\"recall\")).alias(\n",
    "            \"ensemble recall improvement\"\n",
    "        )\n",
    "    )\n",
    "    .cast({\"member\": pl.String})\n",
    "    .with_columns((pl.col(\"der\") > 1).alias(\"positive der\"))\n",
    "    .group_by(\"iteration\", \"group\")\n",
    "    .mean()\n",
    ")\n",
    "\n",
    "sns.lmplot(\n",
    "    joined_recall_der,\n",
    "    x=\"der\",\n",
    "    y=\"ensemble recall improvement\",\n",
    "    hue=\"positive der\",\n",
    ")\n",
    "plt.xlabel(\"Disagreement/Error Ratio\")\n",
    "plt.ylabel(\"Ensemble Recall Improvement\")\n",
    "plt.savefig(\"../plots/ensemble_recall_improvement.png\")"
   ]
  },
  {
   "cell_type": "code",
   "execution_count": 89,
   "metadata": {},
   "outputs": [
    {
     "data": {
      "text/html": [
       "<div><style>\n",
       ".dataframe > thead > tr,\n",
       ".dataframe > tbody > tr {\n",
       "  text-align: right;\n",
       "  white-space: pre-wrap;\n",
       "}\n",
       "</style>\n",
       "<small>shape: (15, 4)</small><table border=\"1\" class=\"dataframe\"><thead><tr><th>group</th><th>iteration</th><th>ensemble recall improvement</th><th>der</th></tr><tr><td>str</td><td>i64</td><td>f64</td><td>f64</td></tr></thead><tbody><tr><td>&quot; Other&quot;</td><td>1</td><td>0.0</td><td>1.333333</td></tr><tr><td>&quot; Amer-Indian-Eskimo&quot;</td><td>1</td><td>0.0</td><td>0.333333</td></tr><tr><td>&quot; White&quot;</td><td>2</td><td>0.012101</td><td>0.948339</td></tr><tr><td>&quot; Asian-Pac-Islander&quot;</td><td>1</td><td>0.03252</td><td>1.176471</td></tr><tr><td>&quot; Black&quot;</td><td>0</td><td>0.038348</td><td>1.44186</td></tr><tr><td>&hellip;</td><td>&hellip;</td><td>&hellip;</td><td>&hellip;</td></tr><tr><td>&quot; Black&quot;</td><td>2</td><td>0.029499</td><td>0.9</td></tr><tr><td>&quot; Other&quot;</td><td>0</td><td>0.066667</td><td>2.0</td></tr><tr><td>&quot; Asian-Pac-Islander&quot;</td><td>0</td><td>0.020325</td><td>1.307692</td></tr><tr><td>&quot; Amer-Indian-Eskimo&quot;</td><td>2</td><td>-0.030303</td><td>0.25</td></tr><tr><td>&quot; Asian-Pac-Islander&quot;</td><td>2</td><td>0.04065</td><td>0.8</td></tr></tbody></table></div>"
      ],
      "text/plain": [
       "shape: (15, 4)\n",
       "┌─────────────────────┬───────────┬─────────────────────────────┬──────────┐\n",
       "│ group               ┆ iteration ┆ ensemble recall improvement ┆ der      │\n",
       "│ ---                 ┆ ---       ┆ ---                         ┆ ---      │\n",
       "│ str                 ┆ i64       ┆ f64                         ┆ f64      │\n",
       "╞═════════════════════╪═══════════╪═════════════════════════════╪══════════╡\n",
       "│  Other              ┆ 1         ┆ 0.0                         ┆ 1.333333 │\n",
       "│  Amer-Indian-Eskimo ┆ 1         ┆ 0.0                         ┆ 0.333333 │\n",
       "│  White              ┆ 2         ┆ 0.012101                    ┆ 0.948339 │\n",
       "│  Asian-Pac-Islander ┆ 1         ┆ 0.03252                     ┆ 1.176471 │\n",
       "│  Black              ┆ 0         ┆ 0.038348                    ┆ 1.44186  │\n",
       "│ …                   ┆ …         ┆ …                           ┆ …        │\n",
       "│  Black              ┆ 2         ┆ 0.029499                    ┆ 0.9      │\n",
       "│  Other              ┆ 0         ┆ 0.066667                    ┆ 2.0      │\n",
       "│  Asian-Pac-Islander ┆ 0         ┆ 0.020325                    ┆ 1.307692 │\n",
       "│  Amer-Indian-Eskimo ┆ 2         ┆ -0.030303                   ┆ 0.25     │\n",
       "│  Asian-Pac-Islander ┆ 2         ┆ 0.04065                     ┆ 0.8      │\n",
       "└─────────────────────┴───────────┴─────────────────────────────┴──────────┘"
      ]
     },
     "execution_count": 89,
     "metadata": {},
     "output_type": "execute_result"
    }
   ],
   "source": [
    "joined_recall_der.group_by(\"group\", \"iteration\").agg(\n",
    "    pl.col(\"ensemble recall improvement\").mean(),\n",
    "    pl.col(\"der\").mean(),\n",
    ")"
   ]
  },
  {
   "cell_type": "code",
   "execution_count": 55,
   "metadata": {},
   "outputs": [
    {
     "data": {
      "text/html": [
       "<div><style>\n",
       ".dataframe > thead > tr,\n",
       ".dataframe > tbody > tr {\n",
       "  text-align: right;\n",
       "  white-space: pre-wrap;\n",
       "}\n",
       "</style>\n",
       "<small>shape: (25, 6)</small><table border=\"1\" class=\"dataframe\"><thead><tr><th>member</th><th>group</th><th>recall</th><th>ensemble_recall</th><th>der</th><th>ensemble recall improvement</th></tr><tr><td>i64</td><td>str</td><td>f64</td><td>f64</td><td>f64</td><td>f64</td></tr></thead><tbody><tr><td>0</td><td>&quot; Amer-Indian-Eskimo&quot;</td><td>0.454545</td><td>0.727273</td><td>1.125</td><td>0.272727</td></tr><tr><td>1</td><td>&quot; Amer-Indian-Eskimo&quot;</td><td>0.909091</td><td>0.727273</td><td>1.125</td><td>-0.181818</td></tr><tr><td>2</td><td>&quot; Amer-Indian-Eskimo&quot;</td><td>0.454545</td><td>0.727273</td><td>1.125</td><td>0.272727</td></tr><tr><td>3</td><td>&quot; Amer-Indian-Eskimo&quot;</td><td>1.0</td><td>0.727273</td><td>1.125</td><td>-0.272727</td></tr><tr><td>4</td><td>&quot; Amer-Indian-Eskimo&quot;</td><td>0.727273</td><td>0.727273</td><td>1.125</td><td>0.0</td></tr><tr><td>&hellip;</td><td>&hellip;</td><td>&hellip;</td><td>&hellip;</td><td>&hellip;</td><td>&hellip;</td></tr><tr><td>0</td><td>&quot; White&quot;</td><td>0.865629</td><td>0.961339</td><td>1.48623</td><td>0.09571</td></tr><tr><td>1</td><td>&quot; White&quot;</td><td>0.988685</td><td>0.961339</td><td>1.48623</td><td>-0.027346</td></tr><tr><td>2</td><td>&quot; White&quot;</td><td>0.690712</td><td>0.961339</td><td>1.48623</td><td>0.270627</td></tr><tr><td>3</td><td>&quot; White&quot;</td><td>0.997643</td><td>0.961339</td><td>1.48623</td><td>-0.036304</td></tr><tr><td>4</td><td>&quot; White&quot;</td><td>0.960868</td><td>0.961339</td><td>1.48623</td><td>0.000471</td></tr></tbody></table></div>"
      ],
      "text/plain": [
       "shape: (25, 6)\n",
       "┌────────┬─────────────────────┬──────────┬─────────────────┬─────────┬─────────────────┐\n",
       "│ member ┆ group               ┆ recall   ┆ ensemble_recall ┆ der     ┆ ensemble recall │\n",
       "│ ---    ┆ ---                 ┆ ---      ┆ ---             ┆ ---     ┆ improvement     │\n",
       "│ i64    ┆ str                 ┆ f64      ┆ f64             ┆ f64     ┆ ---             │\n",
       "│        ┆                     ┆          ┆                 ┆         ┆ f64             │\n",
       "╞════════╪═════════════════════╪══════════╪═════════════════╪═════════╪═════════════════╡\n",
       "│ 0      ┆  Amer-Indian-Eskimo ┆ 0.454545 ┆ 0.727273        ┆ 1.125   ┆ 0.272727        │\n",
       "│ 1      ┆  Amer-Indian-Eskimo ┆ 0.909091 ┆ 0.727273        ┆ 1.125   ┆ -0.181818       │\n",
       "│ 2      ┆  Amer-Indian-Eskimo ┆ 0.454545 ┆ 0.727273        ┆ 1.125   ┆ 0.272727        │\n",
       "│ 3      ┆  Amer-Indian-Eskimo ┆ 1.0      ┆ 0.727273        ┆ 1.125   ┆ -0.272727       │\n",
       "│ 4      ┆  Amer-Indian-Eskimo ┆ 0.727273 ┆ 0.727273        ┆ 1.125   ┆ 0.0             │\n",
       "│ …      ┆ …                   ┆ …        ┆ …               ┆ …       ┆ …               │\n",
       "│ 0      ┆  White              ┆ 0.865629 ┆ 0.961339        ┆ 1.48623 ┆ 0.09571         │\n",
       "│ 1      ┆  White              ┆ 0.988685 ┆ 0.961339        ┆ 1.48623 ┆ -0.027346       │\n",
       "│ 2      ┆  White              ┆ 0.690712 ┆ 0.961339        ┆ 1.48623 ┆ 0.270627        │\n",
       "│ 3      ┆  White              ┆ 0.997643 ┆ 0.961339        ┆ 1.48623 ┆ -0.036304       │\n",
       "│ 4      ┆  White              ┆ 0.960868 ┆ 0.961339        ┆ 1.48623 ┆ 0.000471        │\n",
       "└────────┴─────────────────────┴──────────┴─────────────────┴─────────┴─────────────────┘"
      ]
     },
     "execution_count": 55,
     "metadata": {},
     "output_type": "execute_result"
    }
   ],
   "source": [
    "joined_recall_der"
   ]
  },
  {
   "cell_type": "code",
   "execution_count": null,
   "metadata": {},
   "outputs": [],
   "source": []
  }
 ],
 "metadata": {
  "kernelspec": {
   "display_name": ".venv",
   "language": "python",
   "name": "python3"
  },
  "language_info": {
   "codemirror_mode": {
    "name": "ipython",
    "version": 3
   },
   "file_extension": ".py",
   "mimetype": "text/x-python",
   "name": "python",
   "nbconvert_exporter": "python",
   "pygments_lexer": "ipython3",
   "version": "3.12.6"
  }
 },
 "nbformat": 4,
 "nbformat_minor": 2
}
