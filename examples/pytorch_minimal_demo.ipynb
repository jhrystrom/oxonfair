{
 "cells": [
  {
   "cell_type": "markdown",
   "metadata": {},
   "source": [
    "# Pytorch example\n",
    "\n",
    "This file shows a minimal pytorch example running on adult data, and demonstrating head-merging.\n",
    "\n",
    "In general, we strongly recommend that you *do not* use neural networks on tabular data. Boosting is typically higher performing and much faster to run.\n",
    "\n",
    "However, this is a toy example, and unlike computer vision examples, it will train and run in a matter of minutes. The techniques shown directly apply to computer vision and NLP without modification.\n",
    "\n",
    "In brief, the steps are:\n",
    "1. Train a two-headed network.   \n",
    "    The first head should predict the target attribute using binary cross entropy.  \n",
    "    The second head should predict binarized protected attributes (use a 1-hot or 0,1 encoding) using mean squared error.\n",
    "2. Create a FairPredictor using `DeepFairPredictor` with the output of the network on validation data.\n",
    "3. Call fit to enforce fairness. Use `evaluate_groups` and `plot_frontier` to explore trade-offs. \n",
    "4. Finalize the network. Use `merge_heads_pytorch` to generate a fair network with a single head.  \n",
    "    If you are not using pytorch you can still do this by hand.  \n",
    "    Call the methods `extract_coefficients` or `extract_coefficients_1_hot` and look at the code in `merge_heads_pytorch` or read the paper for instructions."
   ]
  },
  {
   "cell_type": "code",
   "execution_count": 1,
   "metadata": {
    "execution": {
     "iopub.execute_input": "2024-06-17T19:18:59.786451Z",
     "iopub.status.busy": "2024-06-17T19:18:59.786070Z",
     "iopub.status.idle": "2024-06-17T19:19:04.141132Z",
     "shell.execute_reply": "2024-06-17T19:19:04.140766Z"
    }
   },
   "outputs": [
    {
     "name": "stderr",
     "output_type": "stream",
     "text": [
      "/Users/jonathanrystrom/repos/oxonfair/.venv/lib/python3.12/site-packages/tqdm/auto.py:21: TqdmWarning: IProgress not found. Please update jupyter and ipywidgets. See https://ipywidgets.readthedocs.io/en/stable/user_install.html\n",
      "  from .autonotebook import tqdm as notebook_tqdm\n"
     ]
    }
   ],
   "source": [
    "# Load libraries\n",
    "\n",
    "import copy\n",
    "\n",
    "import numpy as np\n",
    "import torch\n",
    "import torch.nn.functional as F\n",
    "from numpy import random\n",
    "from torch import nn, optim\n",
    "\n",
    "import oxonfair\n",
    "from oxonfair import group_metrics as gm"
   ]
  },
  {
   "cell_type": "code",
   "execution_count": 2,
   "metadata": {
    "execution": {
     "iopub.execute_input": "2024-06-17T19:19:04.142997Z",
     "iopub.status.busy": "2024-06-17T19:19:04.142811Z",
     "iopub.status.idle": "2024-06-17T19:19:12.275644Z",
     "shell.execute_reply": "2024-06-17T19:19:12.274964Z"
    }
   },
   "outputs": [],
   "source": [
    "# Load adult dataset, using sex as the default groups and discard sex from the raw data\n",
    "train, val, test = oxonfair.dataset_loader.adult(discard_groups=True)"
   ]
  },
  {
   "cell_type": "code",
   "execution_count": 3,
   "metadata": {
    "execution": {
     "iopub.execute_input": "2024-06-17T19:19:12.278230Z",
     "iopub.status.busy": "2024-06-17T19:19:12.277862Z",
     "iopub.status.idle": "2024-06-17T19:19:12.282936Z",
     "shell.execute_reply": "2024-06-17T19:19:12.282509Z"
    }
   },
   "outputs": [],
   "source": [
    "# Normalise data\n",
    "std = train[\"data\"].std()\n",
    "train[\"data\"] = train[\"data\"] / std\n",
    "val[\"data\"] = val[\"data\"] / std\n",
    "test[\"data\"] = test[\"data\"] / std"
   ]
  },
  {
   "cell_type": "code",
   "execution_count": 4,
   "metadata": {
    "execution": {
     "iopub.execute_input": "2024-06-17T19:19:12.285243Z",
     "iopub.status.busy": "2024-06-17T19:19:12.284809Z",
     "iopub.status.idle": "2024-06-17T19:19:12.289646Z",
     "shell.execute_reply": "2024-06-17T19:19:12.289119Z"
    }
   },
   "outputs": [],
   "source": [
    "# define a basic nn with 2 hidden-layers. 1 of width 100, and the second width 50.\n",
    "network = nn.Sequential(\n",
    "    nn.Linear(train[\"data\"].shape[1], 100),\n",
    "    nn.SELU(),\n",
    "    nn.Linear(100, 50),\n",
    "    nn.SELU(),\n",
    "    nn.Linear(50, 2),\n",
    ")"
   ]
  },
  {
   "cell_type": "code",
   "execution_count": 5,
   "metadata": {
    "execution": {
     "iopub.execute_input": "2024-06-17T19:19:12.291648Z",
     "iopub.status.busy": "2024-06-17T19:19:12.291459Z",
     "iopub.status.idle": "2024-06-17T19:19:12.294650Z",
     "shell.execute_reply": "2024-06-17T19:19:12.294038Z"
    }
   },
   "outputs": [],
   "source": [
    "# Define a custom loss that trains the two-heads as required.\n",
    "def loss(x, y, g):\n",
    "    output = network(x)\n",
    "    loss0 = F.binary_cross_entropy_with_logits(output[:, 0], y)\n",
    "    loss1 = F.mse_loss(output[:, 1], g)\n",
    "    return loss0 + loss1"
   ]
  },
  {
   "cell_type": "code",
   "execution_count": 6,
   "metadata": {
    "execution": {
     "iopub.execute_input": "2024-06-17T19:19:12.297813Z",
     "iopub.status.busy": "2024-06-17T19:19:12.296845Z",
     "iopub.status.idle": "2024-06-17T19:19:13.143869Z",
     "shell.execute_reply": "2024-06-17T19:19:13.083352Z"
    }
   },
   "outputs": [],
   "source": [
    "# Copy variables to tensors\n",
    "target = torch.tensor(train[\"target\"]).float()\n",
    "data = torch.tensor(np.asarray(train[\"data\"])).float()\n",
    "groups = torch.tensor(train[\"groups\"] == \" Male\").float()\n",
    "\n",
    "optimizer = optim.Adam(network.parameters(), lr=1e-4)"
   ]
  },
  {
   "cell_type": "code",
   "execution_count": null,
   "metadata": {
    "execution": {
     "iopub.execute_input": "2024-06-17T19:19:13.146915Z",
     "iopub.status.busy": "2024-06-17T19:19:13.146763Z",
     "iopub.status.idle": "2024-06-17T19:19:27.847654Z",
     "shell.execute_reply": "2024-06-17T19:19:27.845472Z"
    }
   },
   "outputs": [
    {
     "name": "stdout",
     "output_type": "stream",
     "text": [
      "epoch is 0\n",
      "epoch is 10\n",
      "epoch is 20\n",
      "epoch is 30\n",
      "epoch is 40\n",
      "epoch is 50\n",
      "epoch is 60\n",
      "epoch is 70\n",
      "epoch is 80\n",
      "epoch is 90\n"
     ]
    }
   ],
   "source": [
    "# Train the network\n",
    "batch_size = 50\n",
    "\n",
    "for epoch in range(100):\n",
    "    # shuffle data\n",
    "    perm = random.permutation(target.shape[0])\n",
    "    target = target[perm]\n",
    "    data = data[perm]\n",
    "    groups = groups[perm]\n",
    "    if epoch % 10 == 0:\n",
    "        print(\"epoch is %d\" % epoch)\n",
    "    for step in range(\n",
    "        target.shape[0] // batch_size\n",
    "    ):  # This discards the final incomplete batch\n",
    "        optimizer.zero_grad()\n",
    "        current_loss = loss(\n",
    "            data[step * batch_size : (1 + step) * batch_size],\n",
    "            target[step * batch_size : (1 + step) * batch_size],\n",
    "            groups[step * batch_size : (1 + step) * batch_size],\n",
    "        )\n",
    "        current_loss.backward()\n",
    "        optimizer.step()"
   ]
  },
  {
   "cell_type": "code",
   "execution_count": 8,
   "metadata": {
    "execution": {
     "iopub.execute_input": "2024-06-17T19:19:27.861148Z",
     "iopub.status.busy": "2024-06-17T19:19:27.860200Z",
     "iopub.status.idle": "2024-06-17T19:19:27.979998Z",
     "shell.execute_reply": "2024-06-17T19:19:27.978176Z"
    }
   },
   "outputs": [],
   "source": [
    "# convert test['data'] to tensor via numpy and then move the output back to numpy\n",
    "test_output = np.asarray(\n",
    "    network(torch.tensor(np.asarray(test[\"data\"])).float()).detach()\n",
    ")"
   ]
  },
  {
   "cell_type": "markdown",
   "metadata": {},
   "source": [
    "To see if training works we visualize the outputs of the second head (corresponding to gender)\n",
    "\n",
    "Ideally, this should be a two peaked distribution centered on 0 and 1, with more values at 1 -- corresponding to the male label.\n",
    "\n",
    "Instead, we find we have 1 peak centered on 1, a broader central peak corresponding to 'don't know' centered around 0.5 and a third smaller peak around 0.2 and 0.\n",
    "\n",
    "This is fine. The broad central peak reflects the ambiguity of the task, and otherwise we do have something of a split into male and female."
   ]
  },
  {
   "cell_type": "code",
   "execution_count": 9,
   "metadata": {
    "execution": {
     "iopub.execute_input": "2024-06-17T19:19:27.986127Z",
     "iopub.status.busy": "2024-06-17T19:19:27.985936Z",
     "iopub.status.idle": "2024-06-17T19:19:29.234054Z",
     "shell.execute_reply": "2024-06-17T19:19:29.231943Z"
    }
   },
   "outputs": [
    {
     "data": {
      "image/png": "[encoded data removed]",
      "text/plain": [
       "<Figure size 640x480 with 1 Axes>"
      ]
     },
     "metadata": {},
     "output_type": "display_data"
    }
   ],
   "source": [
    "# Plot the outputs of the second head\n",
    "from matplotlib import pyplot as plt\n",
    "\n",
    "_ = plt.hist(test_output[:, 1], bins=50)"
   ]
  },
  {
   "cell_type": "code",
   "execution_count": 10,
   "metadata": {
    "execution": {
     "iopub.execute_input": "2024-06-17T19:19:29.247695Z",
     "iopub.status.busy": "2024-06-17T19:19:29.247389Z",
     "iopub.status.idle": "2024-06-17T19:19:29.289863Z",
     "shell.execute_reply": "2024-06-17T19:19:29.287757Z"
    }
   },
   "outputs": [],
   "source": [
    "# Let's train a fair classifier using the two heads\n",
    "# convert val['data'] to tensor via numpy and then move the output back to numpy\n",
    "val_output = np.asarray(network(torch.tensor(np.asarray(val[\"data\"])).float()).detach())"
   ]
  },
  {
   "cell_type": "code",
   "execution_count": 11,
   "metadata": {
    "execution": {
     "iopub.execute_input": "2024-06-17T19:19:29.294341Z",
     "iopub.status.busy": "2024-06-17T19:19:29.293700Z",
     "iopub.status.idle": "2024-06-17T19:19:58.363387Z",
     "shell.execute_reply": "2024-06-17T19:19:58.345518Z"
    }
   },
   "outputs": [
    {
     "data": {
      "text/plain": [
       "<oxonfair.learners.fair.FairPredictor at 0x14dc9e3c0>"
      ]
     },
     "execution_count": 11,
     "metadata": {},
     "output_type": "execute_result"
    }
   ],
   "source": [
    "fpred = oxonfair.DeepFairPredictor(val[\"target\"], val_output, groups=val[\"groups\"])\n",
    "# Enforce fairness on validation data -- i.e. demographic/statistical parity should be within 2 %\n",
    "fpred.fit(gm.accuracy, gm.demographic_parity, 0.02, grid_width=75)\n",
    "# Varying the grid with can improve accuracy at the cost of a longer search time."
   ]
  },
  {
   "cell_type": "code",
   "execution_count": 12,
   "metadata": {
    "execution": {
     "iopub.execute_input": "2024-06-17T19:19:58.436634Z",
     "iopub.status.busy": "2024-06-17T19:19:58.434899Z",
     "iopub.status.idle": "2024-06-17T19:19:58.756768Z",
     "shell.execute_reply": "2024-06-17T19:19:58.756355Z"
    }
   },
   "outputs": [
    {
     "data": {
      "text/html": [
       "<div>\n",
       "<style scoped>\n",
       "    .dataframe tbody tr th:only-of-type {\n",
       "        vertical-align: middle;\n",
       "    }\n",
       "\n",
       "    .dataframe tbody tr th {\n",
       "        vertical-align: top;\n",
       "    }\n",
       "\n",
       "    .dataframe thead th {\n",
       "        text-align: right;\n",
       "    }\n",
       "</style>\n",
       "<table border=\"1\" class=\"dataframe\">\n",
       "  <thead>\n",
       "    <tr style=\"text-align: right;\">\n",
       "      <th></th>\n",
       "      <th>original</th>\n",
       "      <th>updated</th>\n",
       "    </tr>\n",
       "  </thead>\n",
       "  <tbody>\n",
       "    <tr>\n",
       "      <th>Accuracy</th>\n",
       "      <td>0.851843</td>\n",
       "      <td>0.837592</td>\n",
       "    </tr>\n",
       "    <tr>\n",
       "      <th>Balanced Accuracy</th>\n",
       "      <td>0.767037</td>\n",
       "      <td>0.704659</td>\n",
       "    </tr>\n",
       "    <tr>\n",
       "      <th>F1 score</th>\n",
       "      <td>0.661299</td>\n",
       "      <td>0.569941</td>\n",
       "    </tr>\n",
       "    <tr>\n",
       "      <th>MCC</th>\n",
       "      <td>0.571705</td>\n",
       "      <td>0.505846</td>\n",
       "    </tr>\n",
       "    <tr>\n",
       "      <th>Precision</th>\n",
       "      <td>0.730054</td>\n",
       "      <td>0.777975</td>\n",
       "    </tr>\n",
       "    <tr>\n",
       "      <th>Recall</th>\n",
       "      <td>0.604381</td>\n",
       "      <td>0.449692</td>\n",
       "    </tr>\n",
       "    <tr>\n",
       "      <th>ROC AUC</th>\n",
       "      <td>0.906755</td>\n",
       "      <td>0.895510</td>\n",
       "    </tr>\n",
       "  </tbody>\n",
       "</table>\n",
       "</div>"
      ],
      "text/plain": [
       "                   original   updated\n",
       "Accuracy           0.851843  0.837592\n",
       "Balanced Accuracy  0.767037  0.704659\n",
       "F1 score           0.661299  0.569941\n",
       "MCC                0.571705  0.505846\n",
       "Precision          0.730054  0.777975\n",
       "Recall             0.604381  0.449692\n",
       "ROC AUC            0.906755  0.895510"
      ]
     },
     "execution_count": 12,
     "metadata": {},
     "output_type": "execute_result"
    }
   ],
   "source": [
    "# Check performance drop\n",
    "fpred.evaluate()"
   ]
  },
  {
   "cell_type": "code",
   "execution_count": 13,
   "metadata": {
    "execution": {
     "iopub.execute_input": "2024-06-17T19:19:58.803222Z",
     "iopub.status.busy": "2024-06-17T19:19:58.802592Z",
     "iopub.status.idle": "2024-06-17T19:19:58.886894Z",
     "shell.execute_reply": "2024-06-17T19:19:58.886449Z"
    }
   },
   "outputs": [
    {
     "data": {
      "text/html": [
       "<div>\n",
       "<style scoped>\n",
       "    .dataframe tbody tr th:only-of-type {\n",
       "        vertical-align: middle;\n",
       "    }\n",
       "\n",
       "    .dataframe tbody tr th {\n",
       "        vertical-align: top;\n",
       "    }\n",
       "\n",
       "    .dataframe thead th {\n",
       "        text-align: right;\n",
       "    }\n",
       "</style>\n",
       "<table border=\"1\" class=\"dataframe\">\n",
       "  <thead>\n",
       "    <tr style=\"text-align: right;\">\n",
       "      <th></th>\n",
       "      <th>original</th>\n",
       "      <th>updated</th>\n",
       "    </tr>\n",
       "  </thead>\n",
       "  <tbody>\n",
       "    <tr>\n",
       "      <th>Statistical Parity</th>\n",
       "      <td>0.176268</td>\n",
       "      <td>0.015505</td>\n",
       "    </tr>\n",
       "    <tr>\n",
       "      <th>Predictive Parity</th>\n",
       "      <td>0.008060</td>\n",
       "      <td>0.247793</td>\n",
       "    </tr>\n",
       "    <tr>\n",
       "      <th>Equal Opportunity</th>\n",
       "      <td>0.087114</td>\n",
       "      <td>0.305415</td>\n",
       "    </tr>\n",
       "    <tr>\n",
       "      <th>Average Group Difference in False Negative Rate</th>\n",
       "      <td>0.087114</td>\n",
       "      <td>0.305415</td>\n",
       "    </tr>\n",
       "    <tr>\n",
       "      <th>Equalized Odds</th>\n",
       "      <td>0.080608</td>\n",
       "      <td>0.165957</td>\n",
       "    </tr>\n",
       "    <tr>\n",
       "      <th>Conditional Use Accuracy</th>\n",
       "      <td>0.054210</td>\n",
       "      <td>0.211404</td>\n",
       "    </tr>\n",
       "    <tr>\n",
       "      <th>Average Group Difference in Accuracy</th>\n",
       "      <td>0.111510</td>\n",
       "      <td>0.119893</td>\n",
       "    </tr>\n",
       "    <tr>\n",
       "      <th>Treatment Equality</th>\n",
       "      <td>0.161190</td>\n",
       "      <td>1.465777</td>\n",
       "    </tr>\n",
       "  </tbody>\n",
       "</table>\n",
       "</div>"
      ],
      "text/plain": [
       "                                                 original   updated\n",
       "Statistical Parity                               0.176268  0.015505\n",
       "Predictive Parity                                0.008060  0.247793\n",
       "Equal Opportunity                                0.087114  0.305415\n",
       "Average Group Difference in False Negative Rate  0.087114  0.305415\n",
       "Equalized Odds                                   0.080608  0.165957\n",
       "Conditional Use Accuracy                         0.054210  0.211404\n",
       "Average Group Difference in Accuracy             0.111510  0.119893\n",
       "Treatment Equality                               0.161190  1.465777"
      ]
     },
     "execution_count": 13,
     "metadata": {},
     "output_type": "execute_result"
    }
   ],
   "source": [
    "# and fairness\n",
    "fpred.evaluate_fairness()"
   ]
  },
  {
   "cell_type": "code",
   "execution_count": 14,
   "metadata": {
    "execution": {
     "iopub.execute_input": "2024-06-17T19:19:58.891498Z",
     "iopub.status.busy": "2024-06-17T19:19:58.891329Z",
     "iopub.status.idle": "2024-06-17T19:19:59.377465Z",
     "shell.execute_reply": "2024-06-17T19:19:59.376942Z"
    }
   },
   "outputs": [
    {
     "data": {
      "image/png": "[encoded data removed]",
      "text/plain": [
       "<Figure size 640x480 with 1 Axes>"
      ]
     },
     "metadata": {},
     "output_type": "display_data"
    }
   ],
   "source": [
    "# Visualise the possible trade-offs\n",
    "fpred.plot_frontier()"
   ]
  },
  {
   "cell_type": "code",
   "execution_count": 15,
   "metadata": {
    "execution": {
     "iopub.execute_input": "2024-06-17T19:19:59.382198Z",
     "iopub.status.busy": "2024-06-17T19:19:59.381925Z",
     "iopub.status.idle": "2024-06-17T19:19:59.789703Z",
     "shell.execute_reply": "2024-06-17T19:19:59.789389Z"
    }
   },
   "outputs": [
    {
     "data": {
      "image/png": "[encoded data removed]",
      "text/plain": [
       "<Figure size 640x480 with 1 Axes>"
      ]
     },
     "metadata": {},
     "output_type": "display_data"
    }
   ],
   "source": [
    "# To quickly select another point from the frontier, you can call it with recompute=False\n",
    "fpred.fit(gm.accuracy, gm.demographic_parity, 0.05, recompute=False)\n",
    "fpred.plot_frontier()"
   ]
  },
  {
   "cell_type": "code",
   "execution_count": 16,
   "metadata": {
    "execution": {
     "iopub.execute_input": "2024-06-17T19:19:59.792911Z",
     "iopub.status.busy": "2024-06-17T19:19:59.792623Z",
     "iopub.status.idle": "2024-06-17T19:19:59.795145Z",
     "shell.execute_reply": "2024-06-17T19:19:59.794795Z"
    }
   },
   "outputs": [],
   "source": [
    "# to evaluate how it's working on the test set, we'll create a new dataset holder\n",
    "test_network = oxonfair.DeepDataDict(test[\"target\"], test_output, test[\"groups\"])"
   ]
  },
  {
   "cell_type": "code",
   "execution_count": 17,
   "metadata": {
    "execution": {
     "iopub.execute_input": "2024-06-17T19:19:59.797298Z",
     "iopub.status.busy": "2024-06-17T19:19:59.797154Z",
     "iopub.status.idle": "2024-06-17T19:19:59.854729Z",
     "shell.execute_reply": "2024-06-17T19:19:59.854107Z"
    }
   },
   "outputs": [
    {
     "data": {
      "text/html": [
       "<div>\n",
       "<style scoped>\n",
       "    .dataframe tbody tr th:only-of-type {\n",
       "        vertical-align: middle;\n",
       "    }\n",
       "\n",
       "    .dataframe tbody tr th {\n",
       "        vertical-align: top;\n",
       "    }\n",
       "\n",
       "    .dataframe thead th {\n",
       "        text-align: right;\n",
       "    }\n",
       "</style>\n",
       "<table border=\"1\" class=\"dataframe\">\n",
       "  <thead>\n",
       "    <tr style=\"text-align: right;\">\n",
       "      <th></th>\n",
       "      <th>original</th>\n",
       "      <th>updated</th>\n",
       "    </tr>\n",
       "  </thead>\n",
       "  <tbody>\n",
       "    <tr>\n",
       "      <th>Accuracy</th>\n",
       "      <td>0.851036</td>\n",
       "      <td>0.839980</td>\n",
       "    </tr>\n",
       "    <tr>\n",
       "      <th>Balanced Accuracy</th>\n",
       "      <td>0.763219</td>\n",
       "      <td>0.705987</td>\n",
       "    </tr>\n",
       "    <tr>\n",
       "      <th>F1 score</th>\n",
       "      <td>0.656468</td>\n",
       "      <td>0.573176</td>\n",
       "    </tr>\n",
       "    <tr>\n",
       "      <th>MCC</th>\n",
       "      <td>0.567635</td>\n",
       "      <td>0.513376</td>\n",
       "    </tr>\n",
       "    <tr>\n",
       "      <th>Precision</th>\n",
       "      <td>0.732406</td>\n",
       "      <td>0.792271</td>\n",
       "    </tr>\n",
       "    <tr>\n",
       "      <th>Recall</th>\n",
       "      <td>0.594798</td>\n",
       "      <td>0.449008</td>\n",
       "    </tr>\n",
       "    <tr>\n",
       "      <th>ROC AUC</th>\n",
       "      <td>0.904226</td>\n",
       "      <td>0.896475</td>\n",
       "    </tr>\n",
       "  </tbody>\n",
       "</table>\n",
       "</div>"
      ],
      "text/plain": [
       "                   original   updated\n",
       "Accuracy           0.851036  0.839980\n",
       "Balanced Accuracy  0.763219  0.705987\n",
       "F1 score           0.656468  0.573176\n",
       "MCC                0.567635  0.513376\n",
       "Precision          0.732406  0.792271\n",
       "Recall             0.594798  0.449008\n",
       "ROC AUC            0.904226  0.896475"
      ]
     },
     "execution_count": 17,
     "metadata": {},
     "output_type": "execute_result"
    }
   ],
   "source": [
    "# And evaluate\n",
    "fpred.evaluate(test_network)"
   ]
  },
  {
   "cell_type": "code",
   "execution_count": 18,
   "metadata": {
    "execution": {
     "iopub.execute_input": "2024-06-17T19:19:59.857148Z",
     "iopub.status.busy": "2024-06-17T19:19:59.856991Z",
     "iopub.status.idle": "2024-06-17T19:19:59.937419Z",
     "shell.execute_reply": "2024-06-17T19:19:59.937029Z"
    }
   },
   "outputs": [
    {
     "data": {
      "text/html": [
       "<div>\n",
       "<style scoped>\n",
       "    .dataframe tbody tr th:only-of-type {\n",
       "        vertical-align: middle;\n",
       "    }\n",
       "\n",
       "    .dataframe tbody tr th {\n",
       "        vertical-align: top;\n",
       "    }\n",
       "\n",
       "    .dataframe thead th {\n",
       "        text-align: right;\n",
       "    }\n",
       "</style>\n",
       "<table border=\"1\" class=\"dataframe\">\n",
       "  <thead>\n",
       "    <tr style=\"text-align: right;\">\n",
       "      <th></th>\n",
       "      <th>original</th>\n",
       "      <th>updated</th>\n",
       "    </tr>\n",
       "  </thead>\n",
       "  <tbody>\n",
       "    <tr>\n",
       "      <th>Statistical Parity</th>\n",
       "      <td>0.165798</td>\n",
       "      <td>0.038421</td>\n",
       "    </tr>\n",
       "    <tr>\n",
       "      <th>Predictive Parity</th>\n",
       "      <td>0.005359</td>\n",
       "      <td>0.170735</td>\n",
       "    </tr>\n",
       "    <tr>\n",
       "      <th>Equal Opportunity</th>\n",
       "      <td>0.045052</td>\n",
       "      <td>0.262672</td>\n",
       "    </tr>\n",
       "    <tr>\n",
       "      <th>Average Group Difference in False Negative Rate</th>\n",
       "      <td>0.045052</td>\n",
       "      <td>0.262672</td>\n",
       "    </tr>\n",
       "    <tr>\n",
       "      <th>Equalized Odds</th>\n",
       "      <td>0.057543</td>\n",
       "      <td>0.134613</td>\n",
       "    </tr>\n",
       "    <tr>\n",
       "      <th>Conditional Use Accuracy</th>\n",
       "      <td>0.056878</td>\n",
       "      <td>0.170611</td>\n",
       "    </tr>\n",
       "    <tr>\n",
       "      <th>Average Group Difference in Accuracy</th>\n",
       "      <td>0.116407</td>\n",
       "      <td>0.131098</td>\n",
       "    </tr>\n",
       "    <tr>\n",
       "      <th>Treatment Equality</th>\n",
       "      <td>0.080207</td>\n",
       "      <td>0.886901</td>\n",
       "    </tr>\n",
       "  </tbody>\n",
       "</table>\n",
       "</div>"
      ],
      "text/plain": [
       "                                                 original   updated\n",
       "Statistical Parity                               0.165798  0.038421\n",
       "Predictive Parity                                0.005359  0.170735\n",
       "Equal Opportunity                                0.045052  0.262672\n",
       "Average Group Difference in False Negative Rate  0.045052  0.262672\n",
       "Equalized Odds                                   0.057543  0.134613\n",
       "Conditional Use Accuracy                         0.056878  0.170611\n",
       "Average Group Difference in Accuracy             0.116407  0.131098\n",
       "Treatment Equality                               0.080207  0.886901"
      ]
     },
     "execution_count": 18,
     "metadata": {},
     "output_type": "execute_result"
    }
   ],
   "source": [
    "fpred.evaluate_fairness(test_network)"
   ]
  },
  {
   "cell_type": "code",
   "execution_count": 19,
   "metadata": {
    "execution": {
     "iopub.execute_input": "2024-06-17T19:19:59.940294Z",
     "iopub.status.busy": "2024-06-17T19:19:59.939973Z",
     "iopub.status.idle": "2024-06-17T19:19:59.942597Z",
     "shell.execute_reply": "2024-06-17T19:19:59.942335Z"
    }
   },
   "outputs": [
    {
     "data": {
      "text/plain": [
       "(np.float16(-1.193), np.float16(0.462))"
      ]
     },
     "execution_count": 19,
     "metadata": {},
     "output_type": "execute_result"
    }
   ],
   "source": [
    "# Now let's merge the heads\n",
    "# We examine the coefficients first.\n",
    "fpred.extract_coefficients()"
   ]
  },
  {
   "cell_type": "markdown",
   "metadata": {},
   "source": [
    "The block below shows the merging step for two groups. \n",
    "\n",
    "When only two groups exist, we are using a binary encoding of groups and trying to predict either 0 or 1.\n",
    "The parameters we learn correspond to a scalar `a`, and bias `b`, and the predictions made by the merging:\n",
    "\n",
    "    classification_head + a * group_head +b\n",
    "\n",
    "should be fair and performant.\n",
    "\n",
    "When more than two groups exist, you should have trained the second head to output a one-hot encoding of the groups and the merging:\n",
    "\n",
    "    classification_head + a.dot(group_head)\n",
    "\n",
    "should be fair and performant."
   ]
  },
  {
   "cell_type": "code",
   "execution_count": 20,
   "metadata": {
    "execution": {
     "iopub.execute_input": "2024-06-17T19:19:59.944167Z",
     "iopub.status.busy": "2024-06-17T19:19:59.944036Z",
     "iopub.status.idle": "2024-06-17T19:19:59.959314Z",
     "shell.execute_reply": "2024-06-17T19:19:59.958777Z"
    }
   },
   "outputs": [],
   "source": [
    "# We copy the network and create a fair version\n",
    "fair_network = copy.deepcopy(network)\n",
    "# We replace the final linear layer with a 1 dimensional head.\n",
    "fair_network[-1] = fpred.merge_heads_pytorch(network[-1])"
   ]
  },
  {
   "cell_type": "code",
   "execution_count": 21,
   "metadata": {
    "execution": {
     "iopub.execute_input": "2024-06-17T19:19:59.962110Z",
     "iopub.status.busy": "2024-06-17T19:19:59.961919Z",
     "iopub.status.idle": "2024-06-17T19:19:59.983719Z",
     "shell.execute_reply": "2024-06-17T19:19:59.983212Z"
    }
   },
   "outputs": [],
   "source": [
    "# Now let's check the fair classifier on the test set.\n",
    "test_fair_output = np.asarray(\n",
    "    fair_network(torch.tensor(np.asarray(test[\"data\"])).float()).detach()\n",
    ")"
   ]
  },
  {
   "cell_type": "code",
   "execution_count": 22,
   "metadata": {
    "execution": {
     "iopub.execute_input": "2024-06-17T19:19:59.986126Z",
     "iopub.status.busy": "2024-06-17T19:19:59.985985Z",
     "iopub.status.idle": "2024-06-17T19:19:59.994638Z",
     "shell.execute_reply": "2024-06-17T19:19:59.994199Z"
    }
   },
   "outputs": [
    {
     "data": {
      "text/plain": [
       "Accuracy             0.839980\n",
       "Balanced Accuracy    0.706105\n",
       "F1 score             0.573362\n",
       "MCC                  0.513407\n",
       "Precision            0.791918\n",
       "Recall               0.449350\n",
       "ROC AUC              0.896480\n",
       "Name: 0, dtype: float64"
      ]
     },
     "execution_count": 22,
     "metadata": {},
     "output_type": "execute_result"
    }
   ],
   "source": [
    "# As expected the accuracy is identical to what was reported before.\n",
    "oxonfair.performance.evaluate(test[\"target\"], test_fair_output.reshape(-1))"
   ]
  },
  {
   "cell_type": "code",
   "execution_count": 23,
   "metadata": {
    "execution": {
     "iopub.execute_input": "2024-06-17T19:19:59.996913Z",
     "iopub.status.busy": "2024-06-17T19:19:59.996781Z",
     "iopub.status.idle": "2024-06-17T19:20:00.038725Z",
     "shell.execute_reply": "2024-06-17T19:20:00.037915Z"
    }
   },
   "outputs": [
    {
     "data": {
      "text/plain": [
       "Statistical Parity                                 0.038666\n",
       "Predictive Parity                                  0.170177\n",
       "Equal Opportunity                                  0.262268\n",
       "Average Group Difference in False Negative Rate    0.262268\n",
       "Equalized Odds                                     0.134323\n",
       "Conditional Use Accuracy                           0.170290\n",
       "Average Group Difference in Accuracy               0.131098\n",
       "Treatment Equality                                 0.886127\n",
       "Name: 0, dtype: float64"
      ]
     },
     "execution_count": 23,
     "metadata": {},
     "output_type": "execute_result"
    }
   ],
   "source": [
    "# And so is the fairness\n",
    "oxonfair.performance.evaluate_fairness(\n",
    "    test[\"target\"], test_fair_output.reshape(-1), test[\"groups\"]\n",
    ")"
   ]
  },
  {
   "cell_type": "code",
   "execution_count": 24,
   "metadata": {
    "execution": {
     "iopub.execute_input": "2024-06-17T19:20:00.041072Z",
     "iopub.status.busy": "2024-06-17T19:20:00.040869Z",
     "iopub.status.idle": "2024-06-17T19:20:00.044125Z",
     "shell.execute_reply": "2024-06-17T19:20:00.043628Z"
    }
   },
   "outputs": [],
   "source": [
    "# Finally, let's compare to a range of other oxonfair based classifiers.\n",
    "# These don't support head merging\n",
    "# 1. The base method that just picks the most likely group label instead of keeping track of the value returned\n",
    "fpred_standard = oxonfair.DeepFairPredictor(\n",
    "    val[\"target\"], val_output, groups=val[\"groups\"], use_fast=True\n",
    ")\n",
    "# 2. A classifier that enforces fairness by using the actual group labels instead of inferred.\n",
    "fpred_true_groups = oxonfair.DeepFairPredictor(\n",
    "    val[\"target\"],\n",
    "    val_output,\n",
    "    groups=val[\"groups\"],\n",
    "    use_fast=True,\n",
    "    use_actual_groups=True,\n",
    ")\n",
    "\n",
    "\n",
    "# 3. Single threshold. This adjusts the global bias only, without considering group membership.\n",
    "# It works surprisingly well for criteria like recall.min, but is less useful for fairness\n",
    "fpred_thresh = oxonfair.DeepFairPredictor(\n",
    "    val[\"target\"],\n",
    "    val_output,\n",
    "    groups=val[\"groups\"],\n",
    "    use_actual_groups=\"single_threshold\",\n",
    ")"
   ]
  },
  {
   "cell_type": "code",
   "execution_count": 25,
   "metadata": {
    "execution": {
     "iopub.execute_input": "2024-06-17T19:20:00.046278Z",
     "iopub.status.busy": "2024-06-17T19:20:00.046145Z",
     "iopub.status.idle": "2024-06-17T19:20:00.065088Z",
     "shell.execute_reply": "2024-06-17T19:20:00.064691Z"
    }
   },
   "outputs": [
    {
     "name": "stderr",
     "output_type": "stream",
     "text": [
      "Fewer groups used (1) in infered groups than in the true groups (2)\n"
     ]
    },
    {
     "data": {
      "text/plain": [
       "<oxonfair.learners.fair.FairPredictor at 0x1581d3fe0>"
      ]
     },
     "execution_count": 25,
     "metadata": {},
     "output_type": "execute_result"
    }
   ],
   "source": [
    "fpred_standard.fit(gm.accuracy, gm.demographic_parity, 0.05)\n",
    "fpred_true_groups.fit(gm.accuracy, gm.demographic_parity, 0.05)\n",
    "fpred_thresh.fit(gm.accuracy, gm.demographic_parity, 0.05)"
   ]
  },
  {
   "cell_type": "code",
   "execution_count": 26,
   "metadata": {
    "execution": {
     "iopub.execute_input": "2024-06-17T19:20:00.067975Z",
     "iopub.status.busy": "2024-06-17T19:20:00.067792Z",
     "iopub.status.idle": "2024-06-17T19:20:01.051254Z",
     "shell.execute_reply": "2024-06-17T19:20:01.050803Z"
    }
   },
   "outputs": [
    {
     "data": {
      "text/plain": [
       "(0.75, 0.8576044226044226)"
      ]
     },
     "execution_count": 26,
     "metadata": {},
     "output_type": "execute_result"
    },
    {
     "data": {
      "image/png": "[encoded data removed]",
      "text/plain": [
       "<Figure size 640x480 with 1 Axes>"
      ]
     },
     "metadata": {},
     "output_type": "display_data"
    }
   ],
   "source": [
    "# Plot of curves on validation data\n",
    "# This shows that the first three approaches are basically interchangable\n",
    "fpred_true_groups.plot_frontier(\n",
    "    prefix=\"True Groups \", new_plot=False, show_original=False\n",
    ")\n",
    "fpred_standard.plot_frontier(prefix=\"Base method \", new_plot=False)\n",
    "fpred_thresh.plot_frontier(\n",
    "    prefix=\"Single threshold \", new_plot=False, show_original=False\n",
    ")\n",
    "fpred.plot_frontier(prefix=\"Two heads \", new_plot=False)\n",
    "plt.ylim(bottom=0.75)"
   ]
  }
 ],
 "metadata": {
  "kernelspec": {
   "display_name": ".venv",
   "language": "python",
   "name": "python3"
  },
  "language_info": {
   "codemirror_mode": {
    "name": "ipython",
    "version": 3
   },
   "file_extension": ".py",
   "mimetype": "text/x-python",
   "name": "python",
   "nbconvert_exporter": "python",
   "pygments_lexer": "ipython3",
   "version": "3.12.6"
  }
 },
 "nbformat": 4,
 "nbformat_minor": 2
}
